{
  "cells": [
    {
      "cell_type": "markdown",
      "metadata": {
        "id": "xrUlWnvFf4D7"
      },
      "source": [
        "# Project - Crave Control Agent\n",
        "the project is split between 5 notebooks:\n",
        "1. Preproccesing of the recipes\n",
        "2. Embeddings creation & pinecone\n",
        "3. Reviews - preproccesing, LLM summerazation & embeddings creation\n",
        "4. Prompt template, Calculation of top recepies & LLM chain\n",
        "5. User friendly - ready to use notebook\n",
        "User interface, data preproccesing, models initialization, models interface, pinecone proccesing, LLM chain & PRODUCTION output\n"
      ]
    },
    {
      "cell_type": "markdown",
      "metadata": {
        "id": "GkgzxkJLbnzJ"
      },
      "source": [
        "## API KEY - RUN THIS"
      ]
    },
    {
      "cell_type": "code",
      "execution_count": null,
      "metadata": {
        "colab": {
          "base_uri": "https://localhost:8080/"
        },
        "id": "o4lad5kZcHvw",
        "outputId": "8560187b-eeda-4880-824d-2b973ab62a48"
      },
      "outputs": [
        {
          "name": "stdout",
          "output_type": "stream",
          "text": [
            "Collecting python-dotenv\n",
            "  Downloading python_dotenv-1.0.1-py3-none-any.whl.metadata (23 kB)\n",
            "Downloading python_dotenv-1.0.1-py3-none-any.whl (19 kB)\n",
            "Installing collected packages: python-dotenv\n",
            "Successfully installed python-dotenv-1.0.1\n"
          ]
        }
      ],
      "source": [
        "!pip install python-dotenv\n",
        "!pip install langchain-community\n",
        "!pip install langchain-openai\n",
        "!pip install langchain-community langchain-core\n",
        "!pip install langchain-google-genai\n",
        "!pip install pinecone\n",
        "!pip install tiktoken"
      ]
    },
    {
      "cell_type": "code",
      "execution_count": null,
      "metadata": {
        "colab": {
          "base_uri": "https://localhost:8080/"
        },
        "id": "N_mLWtTQb7so",
        "outputId": "e440db11-49b8-4c09-95e1-70e2d19abd82"
      },
      "outputs": [
        {
          "name": "stdout",
          "output_type": "stream",
          "text": [
            "Embedding Deployment: team1-embedding\n",
            "CHAT Deployment: team1-gpt4o\n",
            "AZURE_OPENAI_ENDPOINT: https://096290-oai.openai.azure.com\n",
            "API_VERSION: 2023-05-15\n"
          ]
        }
      ],
      "source": [
        "from dotenv import load_dotenv\n",
        "from pprint import pprint\n",
        "import getpass\n",
        "import os\n",
        "\n",
        "load_dotenv(\"env\")\n",
        "\n",
        "AZURE_OPENAI_API_KEY =  os.getenv(\"API_KEY\")\n",
        "EMBEDDINGS_DEPLOYMENT = os.getenv(\"EMBEDDING_DEPLOYMENT\")\n",
        "GPT_DEPLOYMENT = os.getenv(\"GPT_DEPLOYMENT\")\n",
        "AZURE_OPENAI_ENDPOINT = os.getenv(\"AZURE_OPENAI_ENDPOINT\")\n",
        "API_VERSION = os.getenv(\"API_VERSION\")\n",
        "PINECONE_API_KEY = os.getenv('PINECONE_API_KEY')\n",
        "\n",
        "#GOOGLE_API_KEY = os.environ['GOOGLE_API_KEY']\n",
        "\n",
        "\n",
        "#print(f\"API Key: {AZURE_OPENAI_API_KEY}\")\n",
        "print(f\"Embedding Deployment: {EMBEDDINGS_DEPLOYMENT}\")\n",
        "print(f\"CHAT Deployment: {GPT_DEPLOYMENT}\")\n",
        "print(f\"AZURE_OPENAI_ENDPOINT: {AZURE_OPENAI_ENDPOINT}\")\n",
        "print(f\"API_VERSION: {API_VERSION}\")\n",
        "\n",
        "def debug(s, title=None):\n",
        "    if title:\n",
        "        print(f\"[*] {title}\")\n",
        "    print(f\"[*] {s}\")"
      ]
    },
    {
      "cell_type": "code",
      "execution_count": null,
      "metadata": {
        "colab": {
          "base_uri": "https://localhost:8080/"
        },
        "id": "O3-LTpi1FyjE",
        "outputId": "6ab271c8-6870-4ee7-dafc-748aa63bc3aa"
      },
      "outputs": [
        {
          "name": "stdout",
          "output_type": "stream",
          "text": [
            "API Key is set and ready to use.\n"
          ]
        }
      ],
      "source": [
        "api_key = os.getenv(\"API_KEY\") # Changed from 'AZURE_OPENAI_API_KEY' to 'API_KEY'\n",
        "if not api_key:\n",
        "    raise Exception(\" API_KEY is missing! Please set it in your environment.\") # Changed from 'AZURE_OPENAI_API_KEY' to 'API_KEY'\n",
        "else:\n",
        "    print(\"API Key is set and ready to use.\")"
      ]
    },
    {
      "cell_type": "markdown",
      "metadata": {
        "id": "lShIm0mTaK-n"
      },
      "source": [
        "## Initialize the model"
      ]
    },
    {
      "cell_type": "code",
      "execution_count": null,
      "metadata": {
        "id": "b1pdID0WThW1"
      },
      "outputs": [],
      "source": [
        "from openai import OpenAI\n",
        "from langchain.chat_models import AzureChatOpenAI\n",
        "from langchain_google_genai import ChatGoogleGenerativeAI\n",
        "from langchain.prompts import ChatPromptTemplate\n",
        "from langchain.schema import HumanMessage, SystemMessage"
      ]
    },
    {
      "cell_type": "code",
      "execution_count": null,
      "metadata": {
        "id": "9hHAOnpKqoyO"
      },
      "outputs": [],
      "source": [
        "from openai import OpenAI, AzureOpenAI\n",
        "from langchain_openai import AzureOpenAIEmbeddings\n",
        "from pinecone import Pinecone\n",
        "\n",
        "\n",
        "AZURE_OPENAI_API_KEY = os.getenv('API_KEY')\n",
        "EMBEDDINGS_DEPLOYMENT = \"team1-embedding\"\n",
        "EMBEDDINGS_MODEL_NAME = \"text-embedding-3-small\"\n",
        "AZURE_OPENAI_ENDPOINT = \"https://096290-oai.openai.azure.com\"\n",
        "CHAT_DEPLOYMENT = \"team1-gpt4o\"\n",
        "CHAT_API_VERSION = \"2023-05-15\"\n",
        "EMBEDDINGS_MODEL_NAME = \"text-embedding-3-small\"\n",
        "EMBEDDINGS_API_VERSION = \"2024-08-01-preview\"\n",
        "\n",
        "\n",
        "client = AzureOpenAI(\n",
        "    api_key = AZURE_OPENAI_API_KEY, # api key\n",
        "    azure_endpoint = AZURE_OPENAI_ENDPOINT,\n",
        "    api_version = \"2024-08-01-preview\",\n",
        "    azure_deployment = EMBEDDINGS_DEPLOYMENT,\n",
        ")\n",
        "\n",
        "embedder_gpt_model = AzureOpenAIEmbeddings(\n",
        "            model = EMBEDDINGS_MODEL_NAME,\n",
        "            azure_endpoint = AZURE_OPENAI_ENDPOINT,\n",
        "            azure_deployment = EMBEDDINGS_DEPLOYMENT,\n",
        "            api_key = AZURE_OPENAI_API_KEY,\n",
        "            api_version = EMBEDDINGS_API_VERSION,\n",
        "            openai_api_type = \"azure\",\n",
        "        )\n",
        "\n",
        "chat = AzureChatOpenAI(\n",
        "    azure_deployment=CHAT_DEPLOYMENT,\n",
        "    api_key=AZURE_OPENAI_API_KEY,\n",
        "    azure_endpoint=AZURE_OPENAI_ENDPOINT,\n",
        "    openai_api_version=CHAT_API_VERSION,\n",
        "    openai_api_type=\"azure\",\n",
        "    temperature=0.7\n",
        ")\n",
        "pc = Pinecone(\n",
        "    api_key=PINECONE_API_KEY\n",
        ")\n",
        "\n",
        "index = pc.Index(\"crave-agent\")"
      ]
    },
    {
      "cell_type": "markdown",
      "metadata": {
        "id": "Q6RxOZD7aMc_"
      },
      "source": [
        "## Define prompt template & chat"
      ]
    },
    {
      "cell_type": "markdown",
      "metadata": {
        "id": "v0ih5GzQiyjA"
      },
      "source": [
        "# User Input\n",
        "\n",
        "The following class defines what the LLM should output given a user's input, in which we describe each property by defining a type and giving a description."
      ]
    },
    {
      "cell_type": "code",
      "execution_count": null,
      "metadata": {
        "id": "ccQLruSQKaXB"
      },
      "outputs": [],
      "source": [
        "from pydantic import BaseModel, Field\n",
        "from typing import List\n",
        "import json\n",
        "from langchain_core.output_parsers import PydanticOutputParser\n",
        "from langchain_core.prompts import PromptTemplate\n",
        "from langchain_openai import ChatOpenAI\n",
        "from pydantic import BaseModel, Field\n",
        "from typing import List\n",
        "\n",
        "\n",
        "class UserInput(BaseModel):\n",
        "    age: int = Field(description=\"User's age in years\")\n",
        "    weight: float = Field(description=\"User's weight in kg\")\n",
        "    height: float = Field(description=\"User's height in cm\")\n",
        "    gender: str = Field(description=\"User's gender (male/female)\")\n",
        "    activity_level: int = Field(description=\"User's activity level (1: sedentary, 2: light, 3: moderate, 4: active, 5: very active)\")\n",
        "    meal_type: str = Field(description=\"Type of meal user wants to eat (breakfast, lunch, dinner, snack)\")\n",
        "    food_category: str = Field(description=\"Category of the food (e.g., Mexican, Italian, etc.)\")\n",
        "    cravings: str = Field(description=\"The type of craving (e.g., sweet, salty, etc.)\")\n",
        "    included_ingredients: List[str] = Field(description=\"Ingredients available to cook\")\n",
        "    calorie_intake: int = Field(description=\"Calculated calorie intake for this meal based on user's data\")\n",
        "    #response_format: str = Field(description=\"The format of the response\")\n",
        "\n",
        "# Initialize the output parser with the updated schema\n",
        "parser = PydanticOutputParser(pydantic_object=UserInput)"
      ]
    },
    {
      "cell_type": "markdown",
      "metadata": {
        "id": "epB8fBWAHZhl"
      },
      "source": [
        "## Feature Engineering - BMI & Calorie Helper function\n",
        "\n",
        "Using the user's features such as weight, age, gender and meal, we generate features like BMI, TDEE and then decide on a specific calorie intake that will help us later when fetching meals"
      ]
    },
    {
      "cell_type": "code",
      "execution_count": null,
      "metadata": {
        "id": "hWO1mxwhHuH1"
      },
      "outputs": [],
      "source": [
        "def calculate_bmi(weight_kg, height_cm):\n",
        "    \"\"\"Calculate BMI using the formula: weight (kg) / height (m)^2\"\"\"\n",
        "    height_m = height_cm / 100  # Convert cm to meters\n",
        "    bmi = weight_kg / (height_m ** 2)\n",
        "    return round(bmi, 2)\n",
        "\n",
        "def classify_bmi(bmi):\n",
        "    \"\"\"Classify BMI into categories\"\"\"\n",
        "    if bmi < 18.5:\n",
        "        return \"Underweight\"\n",
        "    elif 18.5 <= bmi < 25:\n",
        "        return \"Normal weight\"\n",
        "    elif 25 <= bmi < 30:\n",
        "        return \"Overweight\"\n",
        "    else:\n",
        "        return \"Obese\"\n",
        "\n",
        "def calculate_tdee(weight_kg, height_cm, age, gender, activity_level):\n",
        "    \"\"\"Calculate TDEE (Total Daily Energy Expenditure) using Mifflin-St Jeor Equation\"\"\"\n",
        "    if gender.lower() == \"male\":\n",
        "        bmr = (10 * weight_kg) + (6.25 * height_cm) - (5 * age) + 5\n",
        "    else:\n",
        "        bmr = (10 * weight_kg) + (6.25 * height_cm) - (5 * age) - 161\n",
        "\n",
        "    # Activity level mapping\n",
        "    activity_multipliers = {\n",
        "        1: 1.2,    # Sedentary\n",
        "        2: 1.375,  # Light activity\n",
        "        3: 1.55,   # Moderate activity\n",
        "        4: 1.725,  # Active\n",
        "        5: 1.9     # Very active\n",
        "    }\n",
        "\n",
        "    # Get multiplier (default to sedentary if out of range)\n",
        "    multiplier = activity_multipliers.get(activity_level, 1.2)\n",
        "\n",
        "    # Calculate TDEE\n",
        "    return int(bmr * multiplier)\n",
        "\n",
        "def adjust_calories_based_on_bmi(calories, bmi_class):\n",
        "    \"\"\"Modify calorie intake based on BMI classification\"\"\"\n",
        "    bmi_modifiers = {\n",
        "        \"Underweight\": 1.15,  # Increase by 15%\n",
        "        \"Normal weight\": 1.0,  # No change\n",
        "        \"Overweight\": 0.9,  # Reduce by 10%\n",
        "        \"Obese\": 0.8  # Reduce by 20%\n",
        "    }\n",
        "    return int(calories * bmi_modifiers.get(bmi_class, 1.0))  # Default to no change\n",
        "\n",
        "def distribute_calories_per_meal(total_calories, meal_type):\n",
        "    \"\"\"Distribute total daily calories based on meal type\"\"\"\n",
        "    meal_distribution = {\n",
        "        \"breakfast\": 0.3,  # 30% of daily intake\n",
        "        \"lunch\": 0.4,      # 40%\n",
        "        \"dinner\": 0.25,    # 25%\n",
        "        \"snack\": 0.15      # 15%\n",
        "    }\n",
        "    return int(total_calories * meal_distribution.get(meal_type.lower(), 0.3))  # Default to 30%"
      ]
    },
    {
      "cell_type": "markdown",
      "metadata": {
        "id": "-PrwCUhXqoyP"
      },
      "source": [
        "### Example\n",
        "Given an already parsed user input, the following cell shows how we extract and create additional features"
      ]
    },
    {
      "cell_type": "code",
      "execution_count": null,
      "metadata": {
        "colab": {
          "base_uri": "https://localhost:8080/"
        },
        "id": "q3nd2DtLtwWk",
        "outputId": "8d6a5c0b-499f-42b6-bac2-b92f02273bef"
      },
      "outputs": [
        {
          "name": "stdout",
          "output_type": "stream",
          "text": [
            " User BMI: 30.08 (Obese)\n",
            " Daily Calorie Needs (TDEE): 2300 kcal\n",
            " Adjusted Calories (After BMI Modifier): 1840 kcal\n",
            " Recommended Calories for Breakfast: 552 kcal\n"
          ]
        }
      ],
      "source": [
        "# Example Parsed User Input\n",
        "user_profile = {\n",
        "    \"age\": 25,\n",
        "    \"weight\": 77,\n",
        "    \"height\": 160,\n",
        "    \"calorie_limit\": 600,\n",
        "    \"gender\": \"female\",\n",
        "    \"activity_level\": 3,\n",
        "    \"meal_type\": \"breakfast\"\n",
        "}\n",
        "\n",
        "# Step 1: Calculate BMI\n",
        "bmi = calculate_bmi(user_profile[\"weight\"], user_profile[\"height\"])\n",
        "bmi_class = classify_bmi(bmi)\n",
        "\n",
        "# Step 2: Calculate Daily Calories (TDEE)\n",
        "tdee = calculate_tdee(\n",
        "    user_profile[\"weight\"],\n",
        "    user_profile[\"height\"],\n",
        "    user_profile[\"age\"],\n",
        "    user_profile[\"gender\"],\n",
        "    user_profile[\"activity_level\"]\n",
        ")\n",
        "\n",
        "# Step 3: Modify Calories Based on BMI Class\n",
        "adjusted_calories = adjust_calories_based_on_bmi(tdee, bmi_class)\n",
        "\n",
        "# Step 4: Get Meal-Specific Calories\n",
        "meal_calories = distribute_calories_per_meal(adjusted_calories, user_profile[\"meal_type\"])\n",
        "\n",
        "# Display Results\n",
        "print(f\" User BMI: {bmi} ({bmi_class})\")\n",
        "print(f\" Daily Calorie Needs (TDEE): {tdee} kcal\")\n",
        "print(f\" Adjusted Calories (After BMI Modifier): {adjusted_calories} kcal\")\n",
        "print(f\" Recommended Calories for {user_profile['meal_type'].capitalize()}: {meal_calories} kcal\")"
      ]
    },
    {
      "cell_type": "markdown",
      "metadata": {
        "id": "iB4lUlZJDBIJ"
      },
      "source": [
        "## Raw example from user input to features\n",
        "\n",
        "Function that takes in the user's raw input and converts it JSON format and then adds features engineered as specified above"
      ]
    },
    {
      "cell_type": "code",
      "execution_count": null,
      "metadata": {
        "id": "j5mOFZbPKgL4"
      },
      "outputs": [],
      "source": [
        "def generate_struct(user_text, _debug=False):\n",
        "    prompt_template = \"\"\"\n",
        "    Extract and structure the following user text into JSON format according to the provided schema.\n",
        "\n",
        "    Follow this **exact JSON schema**:\n",
        "    {format_instructions}\n",
        "\n",
        "    Only output JSON, without explanations or extra text.\n",
        "\n",
        "    User Text: {user_text}\n",
        "    \"\"\"\n",
        "\n",
        "    instructions = parser.get_format_instructions()\n",
        "\n",
        "    prompt = PromptTemplate(\n",
        "        input_variables=[\"user_text\"],\n",
        "        partial_variables={\"format_instructions\": instructions},\n",
        "        template=prompt_template\n",
        "    )\n",
        "\n",
        "    formatted_prompt = prompt.format(user_text=user_text)\n",
        "\n",
        "    # Call the LLM\n",
        "    llm_output = chat.invoke(formatted_prompt)\n",
        "\n",
        "    # Extract raw text from LLM output\n",
        "    json_string = llm_output.content  # Extract JSON text\n",
        "\n",
        "    # Remove unwanted Markdown formatting (```json ... ```)\n",
        "    json_string = json_string.strip(\"```json\").strip(\"```\").strip()\n",
        "\n",
        "    try:\n",
        "        # Convert cleaned JSON string to Python dict\n",
        "        json_output = json.loads(json_string)\n",
        "\n",
        "        # Extract user profile details for calorie calculations\n",
        "        profile = json_output\n",
        "        weight = profile[\"weight\"]\n",
        "        height = profile[\"height\"]\n",
        "        age = profile[\"age\"]\n",
        "        gender = profile[\"gender\"]\n",
        "        activity_level = profile[\"activity_level\"]\n",
        "        meal_type = profile[\"meal_type\"]\n",
        "        food_category = profile[\"food_category\"]\n",
        "        cravings = profile[\"cravings\"]\n",
        "        included_ingredients = profile[\"included_ingredients\"]\n",
        "\n",
        "        # Calculate calories\n",
        "        bmi = calculate_bmi(weight, height)\n",
        "        bmi_class = classify_bmi(bmi)\n",
        "        tdee = calculate_tdee(weight, height, age, gender, activity_level)\n",
        "        adjusted_calories = adjust_calories_based_on_bmi(tdee, bmi_class)\n",
        "        meal_calories = distribute_calories_per_meal(adjusted_calories, meal_type)\n",
        "\n",
        "        # Add calculated calories to output\n",
        "        json_output[\"calorie_intake\"] = meal_calories\n",
        "        #json_output[\"response_format\"] = \"response_format\"  # Placeholder for response_format without quotes\n",
        "\n",
        "        return json_output\n",
        "\n",
        "    except json.JSONDecodeError:\n",
        "        raise Exception(\"LLM output is not valid JSON.\")\n",
        "    except Exception as e:\n",
        "        raise Exception(f\"Parsing error: {str(e)}\")"
      ]
    },
    {
      "cell_type": "code",
      "execution_count": null,
      "metadata": {
        "colab": {
          "base_uri": "https://localhost:8080/"
        },
        "id": "9l16BlBklKvO",
        "outputId": "c13e156b-e365-4c5c-b7e4-5fb577b09016"
      },
      "outputs": [
        {
          "data": {
            "text/plain": [
              "{'age': 28,\n",
              " 'weight': 65,\n",
              " 'height': 170,\n",
              " 'gender': 'male',\n",
              " 'activity_level': 4,\n",
              " 'meal_type': 'snack',\n",
              " 'food_category': 'chocolate',\n",
              " 'cravings': 'sweet',\n",
              " 'included_ingredients': ['strawberries', 'yogurt', 'bannanas'],\n",
              " 'calorie_intake': 408}"
            ]
          },
          "execution_count": 18,
          "metadata": {},
          "output_type": "execute_result"
        }
      ],
      "source": [
        "user_text = \"\"\"\n",
        "I'm Nitzan 28 years old, weight 65kg, and I'm 170cm tall.\n",
        "I'm male and I work out 6 times a week.\n",
        "I want a light snack with chocolate.\n",
        "I have strawberries and yogurt and bannanas in my fridge.\n",
        "\"\"\"\n",
        "parsed_output = generate_struct(user_text, _debug=True)\n",
        "parsed_output"
      ]
    },
    {
      "cell_type": "markdown",
      "metadata": {
        "id": "cWQZZasG75W7"
      },
      "source": [
        "## LLM Chain"
      ]
    },
    {
      "cell_type": "markdown",
      "metadata": {
        "id": "hax51CFP_eu-"
      },
      "source": [
        "### Imports"
      ]
    },
    {
      "cell_type": "markdown",
      "metadata": {
        "id": "dMqwgfJSqoyW"
      },
      "source": [
        "# VectorDB"
      ]
    },
    {
      "cell_type": "markdown",
      "metadata": {
        "id": "Il4LyCj4AJvv"
      },
      "source": [
        "## User Prompt and VectorDB"
      ]
    },
    {
      "cell_type": "markdown",
      "metadata": {
        "id": "Ar-eTVh3qoyW"
      },
      "source": [
        "### Defining the Query Chain Function\n",
        "\n",
        "The following cell defines the function `build_query_chain`, which builds a chain that generates a detailed query string that will be used to query the vectorDB, and includes the following:\n",
        "\n",
        "1. **Response Schema Definition:**  \n",
        "   - A `ResponseSchema` named `query_string` is defined to describe the expected output—a detailed query string for a similarity search in a vector database of healthy recipes.\n",
        "\n",
        "2. **Prompt Template Setup:**  \n",
        "   - A `PromptTemplate` is created with a detailed multi-line string.  \n",
        "   - The template instructs the language model to act as an expert chef, recipe creator, and nutritionist, taking into account various user preferences (e.g., food category, required ingredients, user profile details like age, weight, height, etc.).\n",
        "   - It clearly specifies the response format using the output parser instructions."
      ]
    },
    {
      "cell_type": "code",
      "execution_count": null,
      "metadata": {
        "id": "e2Ibb23RKSLS"
      },
      "outputs": [],
      "source": [
        "from openai import OpenAI\n",
        "from langchain.chat_models import AzureChatOpenAI\n",
        "from dotenv import load_dotenv\n",
        "# from langchain.embeddings.openai import OpenAIEmbeddings\n",
        "from langchain_openai import AzureOpenAIEmbeddings\n",
        "import os\n",
        "from langchain.prompts import PromptTemplate\n",
        "from langchain.output_parsers import ResponseSchema, StructuredOutputParser\n",
        "from langchain.chains import LLMChain, SequentialChain\n",
        "from langchain.chat_models import AzureChatOpenAI\n",
        "\n",
        "def build_query_chain(llm):\n",
        "\n",
        "    query_string = ResponseSchema(\n",
        "        name=\"query_string\",\n",
        "        description=\"A detailed and specific query string that reflects the user's needs, suitable for a similarity search on a vector database of healthy recipes\"\n",
        "    )\n",
        "\n",
        "    output_parser = StructuredOutputParser.from_response_schemas(\n",
        "        [query_string]\n",
        "        )\n",
        "\n",
        "    response_format = output_parser.get_format_instructions()\n",
        "\n",
        "    prompt = PromptTemplate.from_template(\n",
        "        template=\"\"\"\n",
        "        You are an expert chef, a professional recipe creator, and a certified nutritionist.\n",
        "        Your task is to suggest the best recipe that fits the following user preferences,\n",
        "        ensuring that the recipe is not only delicious but also healthy for the user.\n",
        "\n",
        "        Carefully analyze and consider the following details:\n",
        "\n",
        "        'Food Category': {food_category}  # Type of cuisine or food group (e.g., vegan, Mediterranean, low-carb)\n",
        "        'Required Ingredients': {included_ingredients}  # The ingredients that must be included in the recipe (e.g., spinach, quinoa)\n",
        "\n",
        "        **User Profile:**\n",
        "        'Age': {age}  # User's age\n",
        "        'Weight': {weight}  # User's weight (in kg)\n",
        "        'Height': {height}  # User's height (in cm)\n",
        "        'Gender': {gender}  # User's gender (male/female)\n",
        "        'Activity Level': {activity_level}  # How active the user is (1: sedentary, 2: light, 3: moderate, 4: active, 5: very active)\n",
        "        'Meal Type': {meal_type}  # The type of meal (breakfast, lunch, dinner, snack)\n",
        "        'Cravings': {cravings}  # Any specific craving (e.g., sweet, savory, crunchy)\n",
        "\n",
        "        As a professional nutritionist, ensure the recipe aligns with the user's health goals.\n",
        "        If the user seeks to maintain or lose weight, gain muscle, or manage a specific condition,\n",
        "        provide a recipe that helps meet those goals while maintaining proper nutrition and balanced calories.\n",
        "\n",
        "        Your job is to generate a **clear and specific** query string based on these preferences to perform a similarity search\n",
        "        in a vector database of recipes.\n",
        "\n",
        "        Be sure to:\n",
        "        - Focus on the key ingredients, food type, and any health requirements.\n",
        "        - Suggest meals that are nutritionally balanced, considering the user's weight, age, and activity level.\n",
        "        - Ensure the recipe falls within the user's required **calorie range**.\n",
        "        - Use clear language that directly addresses the food needs and health considerations of the user.\n",
        "\n",
        "        **Response format**: {response_format}\n",
        "        \"\"\"\n",
        "    )\n",
        "\n",
        "    query_chain = LLMChain(llm=llm, prompt=prompt, output_key='query')\n",
        "\n",
        "    chain = SequentialChain(\n",
        "        chains=[query_chain],\n",
        "        input_variables=[\n",
        "            'food_category', 'included_ingredients', 'height',\n",
        "            'age', 'weight', 'gender', 'activity_level', 'meal_type', 'cravings', 'calorie_intake', 'response_format'\n",
        "            ],\n",
        "        output_variables=['query'],\n",
        "        verbose=False\n",
        "    )\n",
        "\n",
        "    return chain, response_format, output_parser"
      ]
    },
    {
      "cell_type": "markdown",
      "metadata": {
        "id": "2ZOHTOGWSyYq",
        "jp-MarkdownHeadingCollapsed": true
      },
      "source": [
        "### Generate Query & Similarity Search\n",
        "\n",
        "- **Parse User Input:**  \n",
        "  Uses `generate_struct` to turn raw text into structured data.\n",
        "\n",
        "- **Build & Run Query Chain:**  \n",
        "  Creates a query chain with `build_query_chain(chat)`, adds the response format, and runs it to generate a query string (and extract `calorie_intake`).\n",
        "\n",
        "- **Feature Engineering:**  \n",
        "  Uses the previous code that calculates the calorie intake for user given their features, it then sets upper (10% above) and lower (60% below) calorie bounds, this allows the search to be wider as its searching a range and not for a specific number\n",
        "\n",
        "- **Embed & Search:**  \n",
        "  Converts the query to an embedding with `embedder_gpt_model.embed_query(query)` and queries the Pinecone index with a calorie filter to fetch the top 20 similar recipes."
      ]
    },
    {
      "cell_type": "code",
      "execution_count": null,
      "metadata": {
        "id": "7BrFatbNSz6l"
      },
      "outputs": [],
      "source": [
        "import json\n",
        "\n",
        "# Function to generate query and perform similarity search\n",
        "def generate_query(user_text, _debug=True, chat=None, embedder_gpt_model=None):\n",
        "    # Generate structured output from the user text\n",
        "    parsed_output = generate_struct(user_text, _debug=_debug) # Calorie intake is calcualted here\n",
        "\n",
        "    # Use the chain and response format to generate a query\n",
        "    chain, response_format, output_parser = build_query_chain(chat)\n",
        "    parsed_output['response_format']=response_format\n",
        "\n",
        "    # Running the chain to generate the query\n",
        "    query_output = chain.run(**parsed_output)\n",
        "    query = query_output[27:-7]  # Extract the query part\n",
        "    calorie_intake = parsed_output['calorie_intake']\n",
        "\n",
        "    # Define calorie range based on input query\n",
        "    calorie_range_max = int(parsed_output['calorie_intake'] * 1.1)  # 10% higher\n",
        "    calorie_range_min = int(parsed_output['calorie_intake'] * 0.6)  # 60% lower\n",
        "\n",
        "    # Convert query into embeddings\n",
        "    query_embedding = embedder_gpt_model.embed_query(query)  # Function to convert the query into vector representation\n",
        "\n",
        "    # Perform the similarity search in Pinecone\n",
        "    response = index.query(\n",
        "        namespace=\"embds+calo\",  # Assuming namespace is calo\n",
        "        vector=query_embedding,  # The embedding of the user input\n",
        "        top_k=20,\n",
        "        include_values=True,\n",
        "        include_metadata=True,\n",
        "        filter={\n",
        "            \"calories\": {\n",
        "                \"$lte\": calorie_range_max,  # Less than or equal to max calories\n",
        "                \"$gte\": calorie_range_min  # Greater than or equal to min calories\n",
        "            }\n",
        "        }\n",
        "    )\n",
        "\n",
        "    return response, calorie_intake"
      ]
    },
    {
      "cell_type": "markdown",
      "metadata": {
        "id": "BBXdDDMhqoyX"
      },
      "source": [
        "# User Friendly Display\n",
        "The following code is used to create user friendly display of the results and can be ignored."
      ]
    },
    {
      "cell_type": "code",
      "execution_count": null,
      "metadata": {
        "id": "W7EbbHwDqoyX"
      },
      "outputs": [],
      "source": [
        "import pandas as pd\n",
        "from IPython.display import display, HTML\n",
        "import matplotlib.pyplot as plt\n",
        "from PIL import Image as PILImage\n",
        "import requests\n",
        "from io import BytesIO\n",
        "import math\n",
        "import uuid\n",
        "import re\n",
        "import ast\n",
        "\n",
        "def parse_recipe_dict(recipe_dict):\n",
        "    \"\"\"\n",
        "    Parse and transform the recipe dictionary into the format expected by the display functions.\n",
        "\n",
        "    Parameters:\n",
        "    recipe_dict (dict): Raw recipe dictionary from the dataset\n",
        "\n",
        "    Returns:\n",
        "    dict: Transformed recipe dictionary ready for display\n",
        "    \"\"\"\n",
        "    # Create a new dictionary with the expected structure\n",
        "    transformed = {}\n",
        "\n",
        "    # Basic info\n",
        "    transformed['Name'] = recipe_dict.get('Name', 'Unnamed Recipe')\n",
        "    transformed['Author'] = recipe_dict.get('AuthorName', 'Unknown')\n",
        "    transformed['category'] = recipe_dict.get('RecipeCategory', 'Uncategorized')\n",
        "    transformed['rating'] = recipe_dict.get('AggregatedRating', 0)\n",
        "    transformed['reviews_count'] = int(recipe_dict.get('ReviewCount', 0))\n",
        "\n",
        "    # Parse time information\n",
        "    cook_time = recipe_dict.get('CookTime', '')\n",
        "    prep_time = recipe_dict.get('PrepTime', '')\n",
        "    total_time = recipe_dict.get('TotalTime', '')\n",
        "\n",
        "    # Use total time if available, otherwise calculate from cook and prep time\n",
        "    if total_time and isinstance(total_time, str):\n",
        "        time_str = parse_iso_duration(total_time)\n",
        "    elif prep_time and isinstance(prep_time, str):\n",
        "        time_str = parse_iso_duration(prep_time)\n",
        "    else:\n",
        "        time_str = \"00:00:00\"  # Default time format\n",
        "\n",
        "    transformed['time'] = time_str\n",
        "\n",
        "    # Nutrition information\n",
        "    transformed['calories'] = recipe_dict.get('Calories', 0)\n",
        "    transformed['servings'] = recipe_dict.get('RecipeServings', 1)\n",
        "\n",
        "    # Calculate nutrition percentages\n",
        "    total_nutrients = (\n",
        "        recipe_dict.get('CarbohydrateContent', 0) +\n",
        "        recipe_dict.get('ProteinContent', 0) +\n",
        "        recipe_dict.get('FatContent', 0)\n",
        "    )\n",
        "\n",
        "    if total_nutrients > 0:\n",
        "        transformed['carbohydrates percentage'] = (recipe_dict.get('CarbohydrateContent', 0) / total_nutrients) * 100\n",
        "        transformed['proteins percentage'] = (recipe_dict.get('ProteinContent', 0) / total_nutrients) * 100\n",
        "        transformed['fat percentage'] = (recipe_dict.get('FatContent', 0) / total_nutrients) * 100\n",
        "    else:\n",
        "        transformed['carbohydrates percentage'] = 0\n",
        "        transformed['proteins percentage'] = 0\n",
        "        transformed['fat percentage'] = 0\n",
        "\n",
        "    # Parse ingredients\n",
        "    ingredients = {}\n",
        "    quantities = safe_eval_list(recipe_dict.get('RecipeIngredientQuantities', '[]'))\n",
        "    parts = safe_eval_list(recipe_dict.get('RecipeIngredientParts', '[]'))\n",
        "\n",
        "    # Ensure quantities and parts have the same length\n",
        "    min_length = min(len(quantities), len(parts))\n",
        "    for i in range(min_length):\n",
        "        ingredients[parts[i]] = quantities[i] if i < len(quantities) else \"\"\n",
        "\n",
        "    transformed['ingredients'] = ingredients\n",
        "\n",
        "    # Parse instructions\n",
        "    instructions_list = safe_eval_list(recipe_dict.get('RecipeInstructions', '[]'))\n",
        "    transformed['instructions'] = \"\\n\".join(instructions_list)\n",
        "\n",
        "    # Parse keywords\n",
        "    transformed['keywords'] = safe_eval_list(recipe_dict.get('Keywords', '[]'))\n",
        "\n",
        "    # Parse images\n",
        "    images = recipe_dict.get('Images', 'character(0)')\n",
        "    if images == 'character(0)':\n",
        "        transformed['images'] = []\n",
        "    else:\n",
        "        # If we have actual image URLs, parse them\n",
        "        transformed['images'] = safe_eval_list(images)\n",
        "\n",
        "    return transformed\n",
        "\n",
        "def safe_eval_list(list_str):\n",
        "    \"\"\"\n",
        "    Safely evaluate a string representation of a list.\n",
        "\n",
        "    Parameters:\n",
        "    list_str (str): String representation of a list (e.g., \"c('item1', 'item2')\")\n",
        "\n",
        "    Returns:\n",
        "    list: Parsed list, or empty list if parsing fails\n",
        "    \"\"\"\n",
        "    try:\n",
        "        # Handle R-style c() lists\n",
        "        if isinstance(list_str, str) and list_str.startswith('c('):\n",
        "            # Extract content inside c() and parse it\n",
        "            content = list_str[2:-1]\n",
        "            # Split by commas, but not if the comma is inside quotes\n",
        "            items = re.findall(r'\"([^\"]*)\"|\\'([^\\']*)\\'', content)\n",
        "            # Flatten the list of tuples and filter out empty strings\n",
        "            return [item for sublist in items for item in sublist if item]\n",
        "        elif isinstance(list_str, list):\n",
        "            return list_str\n",
        "        else:\n",
        "            # Try using ast.literal_eval for other list formats\n",
        "            return ast.literal_eval(list_str)\n",
        "    except (SyntaxError, ValueError):\n",
        "        # Return empty list if parsing fails\n",
        "        return []\n",
        "\n",
        "def parse_iso_duration(iso_duration):\n",
        "    \"\"\"\n",
        "    Parse ISO 8601 duration format (e.g., PT10M) to \"HH:MM:SS\" format.\n",
        "\n",
        "    Parameters:\n",
        "    iso_duration (str): Duration in ISO 8601 format\n",
        "\n",
        "    Returns:\n",
        "    str: Duration in \"HH:MM:SS\" format\n",
        "    \"\"\"\n",
        "    hours, minutes, seconds = 0, 0, 0\n",
        "\n",
        "    # Check if string is in ISO 8601 format\n",
        "    if isinstance(iso_duration, str) and iso_duration.startswith('PT'):\n",
        "        # Extract hours, minutes, seconds\n",
        "        if 'H' in iso_duration:\n",
        "            h_parts = iso_duration.split('H')\n",
        "            hours = int(h_parts[0].replace('PT', ''))\n",
        "            iso_duration = h_parts[1]\n",
        "\n",
        "        if 'M' in iso_duration:\n",
        "            m_parts = iso_duration.split('M')\n",
        "            minutes = int(m_parts[0].replace('PT', ''))\n",
        "            iso_duration = m_parts[1]\n",
        "\n",
        "        if 'S' in iso_duration:\n",
        "            seconds = int(iso_duration.split('S')[0].replace('PT', ''))\n",
        "\n",
        "    return f\"{hours:02d}:{minutes:02d}:{seconds:02d}\"\n",
        "\n",
        "def display_recipes_ranked(recipes_list, relevance_scores=None):\n",
        "    \"\"\"\n",
        "    Display multiple recipes in a compact format, ranked by relevance.\n",
        "\n",
        "    Parameters:\n",
        "    recipes_list (list): List of recipe dictionaries\n",
        "    relevance_scores (list, optional): List of relevance scores corresponding to recipes.\n",
        "                                      If None, recipes are assumed to be pre-sorted.\n",
        "    \"\"\"\n",
        "    # Transform all recipe dictionaries\n",
        "    transformed_recipes = [parse_recipe_dict(recipe) for recipe in recipes_list]\n",
        "\n",
        "    # Sort recipes by relevance if scores are provided\n",
        "    if relevance_scores:\n",
        "        # Pair recipes with their scores and sort\n",
        "        recipe_pairs = list(zip(transformed_recipes, relevance_scores))\n",
        "        recipe_pairs.sort(key=lambda x: x[1], reverse=True)\n",
        "        sorted_recipes = [pair[0] for pair in recipe_pairs]\n",
        "    else:\n",
        "        # Assume recipes are already sorted\n",
        "        sorted_recipes = transformed_recipes\n",
        "\n",
        "    # Display each recipe\n",
        "    for i, recipe in enumerate(sorted_recipes):\n",
        "        display_single_recipe(recipe, i+1, len(sorted_recipes))\n",
        "\n",
        "def display_single_recipe(recipe_dict, rank=None, total=None):\n",
        "    \"\"\"\n",
        "    Display a single recipe in a compact format.\n",
        "\n",
        "    Parameters:\n",
        "    recipe_dict (dict): Recipe dictionary\n",
        "    rank (int, optional): Rank of this recipe\n",
        "    total (int, optional): Total number of recipes\n",
        "    \"\"\"\n",
        "    # Check if the recipe dictionary needs transformation\n",
        "    if 'RecipeId' in recipe_dict:\n",
        "        recipe_dict = parse_recipe_dict(recipe_dict)\n",
        "\n",
        "    # Generate a unique ID for this recipe\n",
        "    recipe_id = f\"recipe_{uuid.uuid4().hex[:8]}\"\n",
        "\n",
        "    # Create HTML for recipe header with rank if provided\n",
        "    rank_display = f\"<span style='color: #888; font-size: 0.9em;'>Rank {rank}/{total}</span>\" if rank else \"\"\n",
        "\n",
        "    header_html = f\"\"\"\n",
        "    <div style=\"font-family: Arial; padding: 10px; border-radius: 5px; border: 1px solid #ddd; margin-bottom: 10px;\">\n",
        "        <div style=\"display: flex; justify-content: space-between; align-items: center;\">\n",
        "            <h2 style=\"color: #333; margin: 0 0 5px 0;\">{recipe_dict['Name']}</h2>\n",
        "            {rank_display}\n",
        "        </div>\n",
        "        <div style=\"display: flex; justify-content: space-between; align-items: center;\">\n",
        "            <span style=\"color: #666; font-size: 0.9em;\">By {recipe_dict['Author']} | {recipe_dict['category']}</span>\n",
        "            <span style=\"font-size: 1em; color: #f6ab00;\">{'★' * int(recipe_dict['rating'])} ({recipe_dict['reviews_count']})</span>\n",
        "        </div>\n",
        "    </div>\n",
        "    \"\"\"\n",
        "    display(HTML(header_html))\n",
        "\n",
        "    # Display images in a horizontal scrollable container\n",
        "    if recipe_dict['images'] and len(recipe_dict['images']) > 0:\n",
        "        image_container = f\"\"\"\n",
        "        <div style=\"margin: 10px 0; max-width: 100%; overflow-x: auto;\">\n",
        "            <div style=\"display: flex; gap: 5px;\">\n",
        "        \"\"\"\n",
        "\n",
        "        for img_url in recipe_dict['images']:\n",
        "            image_container += f\"\"\"\n",
        "            <div style=\"flex: 0 0 auto; width: 150px; height: 100px;\">\n",
        "                <img src=\"{img_url}\" style=\"width: 100%; height: 100%; object-fit: cover; border-radius: 3px;\">\n",
        "            </div>\n",
        "            \"\"\"\n",
        "\n",
        "        image_container += \"\"\"\n",
        "            </div>\n",
        "        </div>\n",
        "        \"\"\"\n",
        "\n",
        "        display(HTML(image_container))\n",
        "\n",
        "    # Create a compact info section\n",
        "    info_html = \"<div style='display: flex; flex-wrap: wrap; gap: 10px; margin: 10px 0;'>\"\n",
        "    info_html += f\"<div style='padding: 5px 10px; background-color: #f0f8ff; border-radius: 4px;'><b>Time:</b> {format_time(recipe_dict['time'])}</div>\"\n",
        "    info_html += f\"<div style='padding: 5px 10px; background-color: #f0f8ff; border-radius: 4px;'><b>Calories:</b> {recipe_dict['calories']} kcal</div>\"\n",
        "    info_html += f\"<div style='padding: 5px 10px; background-color: #f0f8ff; border-radius: 4px;'><b>Servings:</b> {recipe_dict['servings']}</div>\"\n",
        "\n",
        "    # Add nutrition percentages (rounded)\n",
        "    info_html += f\"<div style='padding: 5px 10px; background-color: #f0fff0; border-radius: 4px;'><b>Carbs:</b> {round(recipe_dict.get('carbohydrates percentage', 0), 1)}%</div>\"\n",
        "    info_html += f\"<div style='padding: 5px 10px; background-color: #f0fff0; border-radius: 4px;'><b>Protein:</b> {round(recipe_dict.get('proteins percentage', 0), 1)}%</div>\"\n",
        "    info_html += f\"<div style='padding: 5px 10px; background-color: #f0fff0; border-radius: 4px;'><b>Fat:</b> {round(recipe_dict.get('fat percentage', 0), 1)}%</div>\"\n",
        "    info_html += \"</div>\"\n",
        "    display(HTML(info_html))\n",
        "\n",
        "    # Display ingredients and instructions stacked vertically\n",
        "    content_html = \"\"\"\n",
        "    <div style='font-family: Arial; margin: 10px 0;'>\n",
        "        <h4 style='margin-top: 0; margin-bottom: 5px;'>Ingredients</h4>\n",
        "        <ul style='margin: 0 0 10px 0; padding-left: 20px;'>\n",
        "    \"\"\"\n",
        "\n",
        "    for ingredient, amount in recipe_dict.get('ingredients', {}).items():\n",
        "        content_html += f\"<li><b>{ingredient}:</b> {amount}</li>\"\n",
        "\n",
        "    content_html += \"\"\"\n",
        "        </ul>\n",
        "        <h4 style='margin-top: 10px; margin-bottom: 5px;'>Instructions</h4>\n",
        "        <p style='margin: 0;'>{}</p>\n",
        "    </div>\n",
        "    \"\"\".format(recipe_dict.get('instructions', 'No instructions available.'))\n",
        "\n",
        "    display(HTML(content_html))\n",
        "\n",
        "    # Display tags if any\n",
        "    if recipe_dict.get('keywords'):\n",
        "        tags_html = \"<div style='margin: 5px 0;'>\"\n",
        "        for keyword in recipe_dict['keywords']:\n",
        "            tags_html += f\"<span style='background-color: #eaeaea; padding: 2px 8px; border-radius: 10px; font-size: 0.8em; margin-right: 5px;'>{keyword}</span>\"\n",
        "        tags_html += \"</div>\"\n",
        "        display(HTML(tags_html))\n",
        "\n",
        "    # Add separator between recipes\n",
        "    display(HTML(\"<hr style='margin: 20px 0; border: 0; border-top: 1px dashed #ccc;'>\"))\n",
        "\n",
        "def format_time(time_str):\n",
        "    \"\"\"Format time string from \"00:5:00\" to \"5m\" format\"\"\"\n",
        "    try:\n",
        "        parts = time_str.split(':')\n",
        "        result = []\n",
        "        if int(parts[0]) > 0:\n",
        "            result.append(f\"{int(parts[0])}h\")\n",
        "        if int(parts[1]) > 0:\n",
        "            result.append(f\"{int(parts[1])}m\")\n",
        "        if not result:\n",
        "            return \"< 1m\"\n",
        "        return \"\".join(result)\n",
        "    except:\n",
        "        return time_str  # Return original if parsing fails"
      ]
    },
    {
      "cell_type": "markdown",
      "metadata": {
        "id": "QZX_FlAzWIgI"
      },
      "source": [
        "# Chaining everything together"
      ]
    },
    {
      "cell_type": "code",
      "execution_count": null,
      "metadata": {
        "id": "Ot9vy8boSz-A"
      },
      "outputs": [],
      "source": [
        "user_text=\"\"\"\n",
        "I'm Emily 33 years old, weight 50 kg, and I'm 170cm tall.\n",
        "I'm female and I work out 6 times a week.\n",
        "I want a heavy dinner with bagel with bacon, egg and cheese.\n",
        "I have ham and bagel and tomato in my fridge.\n",
        "\"\"\"\n",
        "response, calorie_intake = generate_query(user_text, _debug=True, chat=chat, embedder_gpt_model=embedder_gpt_model)\n",
        "print(f'Recommended Calorie intake - {calorie_intake}')"
      ]
    },
    {
      "cell_type": "markdown",
      "metadata": {
        "id": "lGAD-_ziqoyX"
      },
      "source": [
        "\n",
        "We embeded the reviews of each recipe, and we load them here"
      ]
    },
    {
      "cell_type": "code",
      "execution_count": null,
      "metadata": {
        "id": "XnvbFl3HqoyX",
        "outputId": "77776da8-404c-4ea8-e332-74edc6fcf37e"
      },
      "outputs": [
        {
          "name": "stdout",
          "output_type": "stream",
          "text": [
            " Loaded 11844 embedding_data\n"
          ]
        }
      ],
      "source": [
        "#  Load the saved RecipeIds\n",
        "with open(\"embeddings_and_ids.json\", \"r\") as f:\n",
        "    embeddings_and_ids = json.load(f)\n",
        "\n",
        "print(f\" Loaded {len(embeddings_and_ids)} embedding_data\")"
      ]
    },
    {
      "cell_type": "markdown",
      "metadata": {
        "id": "Pt6wshI4qoyX"
      },
      "source": [
        "# Recipe Selection Process\n",
        "\n",
        "After querying the user's input in our vector database of recipes, we retrieved the **20 most similar recipes**. Next, we refine this selection by ranking the recipes based on two factors:\n",
        "\n",
        "1. **Similarity to the user's preferences** (based on vector embeddings).  \n",
        "2. **The quality of reviews** (when available).  \n",
        "\n",
        "## Handling Recipes with and without Reviews\n",
        "\n",
        "- **For recipes with reviews:**  \n",
        "  - Compute the **cosine similarity** between the recipe and its reviews.  \n",
        "  - Take the **average** of the user-recipe similarity and the recipe-review similarity to get a final ranking score.  \n",
        "\n",
        "- **For recipes without reviews:**  \n",
        "  - These recipes should still be considered because they might be **highly relevant** to the user’s request.  \n",
        "  - To account for missing review data, we compute the **average of the user-recipe similarity** with the **mean of all recipe-review similarity scores** from the top 20 recipes.  \n",
        "\n",
        "## Final Ranking and Selection\n",
        "\n",
        "With these final scores, we **rank all 20 recipes** and select the **top 3 recipes** to present to the user. This ensures a **balanced evaluation**, incorporating both the **similarity to user preferences** and **review-based quality** when available."
      ]
    },
    {
      "cell_type": "code",
      "execution_count": null,
      "metadata": {
        "id": "4_N0cTMlqoyX"
      },
      "outputs": [],
      "source": [
        "top_20_recipes = response['matches']\n",
        "top_20_recipe_embeddings = [match['values'] for match in top_20_recipes]  # Recipe embeddings\n",
        "top_20_recipe_ids = [match['id'] for match in top_20_recipes]  # Recipe IDs\n",
        "top_scores = [(match['score'], match['id']) for match in top_20_recipes]  # Include both the score and RecipeId\n",
        "# Get review embeddings for the top 20 recipes\n",
        "matching_embeddings = {}\n",
        "\n",
        "# Get review embeddings for the top 20 recipes\n",
        "for search_recipe_id in top_20_recipe_ids:\n",
        "    for review in embeddings_and_ids:\n",
        "        if review['RecipeId'] == int(search_recipe_id):\n",
        "            matching_embeddings[search_recipe_id] = review['Embedding']  # Store the review embedding\n",
        "            break  # Stop once the matching RecipeId is found\n",
        "# Check if embeddings were found and print the results\n",
        "if matching_embeddings:\n",
        "    print(f\"Found embeddings for {len(matching_embeddings)} RecipeIds: {list(matching_embeddings.keys())}\")\n",
        "else:\n",
        "    print(\"No embeddings found for the top 20 RecipeIds.\")"
      ]
    },
    {
      "cell_type": "code",
      "execution_count": null,
      "metadata": {
        "id": "FqYZO3wIqoyY",
        "outputId": "47cf75b3-c062-4b79-bc01-897ad6e48c0f"
      },
      "outputs": [
        {
          "name": "stdout",
          "output_type": "stream",
          "text": [
            "Top 3 Recipe IDs: [198967, 47038, 397232]\n"
          ]
        }
      ],
      "source": [
        "import numpy as np\n",
        "from sklearn.metrics.pairwise import cosine_similarity\n",
        "\n",
        "def compute_final_similarities(top_20_recipes, top_20_recipe_embeddings, matching_embeddings, top_scores):\n",
        "    similarity_scores = []\n",
        "\n",
        "    # Step 1: Calculate avg_sim based on cosine similarity between reviews and recipes\n",
        "    review_similarities = []\n",
        "    for match in top_20_recipes:\n",
        "        recipe_id = match['id']  # Extract the recipe_id from the match object\n",
        "        if recipe_id in matching_embeddings:  # Recipe with reviews\n",
        "            review_embedding = matching_embeddings[recipe_id]  # Get the corresponding review embedding\n",
        "            recipe_embedding = top_20_recipe_embeddings[top_20_recipe_ids.index(recipe_id)]  # Get the recipe embedding by matching the RecipeId\n",
        "\n",
        "            if recipe_embedding is not None:\n",
        "                # Calculate cosine similarity between the recipe and the review\n",
        "                cosine_sim = cosine_similarity([recipe_embedding], [review_embedding])[0][0]\n",
        "                review_similarities.append(cosine_sim)\n",
        "\n",
        "    # Calculate the average cosine similarity for the reviews\n",
        "    avg_sim = np.mean(review_similarities) if review_similarities else 0  # If no reviews, set avg_sim to 0\n",
        "\n",
        "    # Step 2: Iterate through the recipes and compute the final similarity\n",
        "    for i, match in enumerate(top_20_recipes):\n",
        "        recipe_id = match['id']\n",
        "        if recipe_id in matching_embeddings:  # Recipe with reviews\n",
        "            review_embedding = matching_embeddings[recipe_id]  # Get the corresponding review embedding\n",
        "            recipe_embedding = top_20_recipe_embeddings[i]  # Get the recipe embedding\n",
        "\n",
        "            if recipe_embedding is not None:\n",
        "                # Calculate cosine similarity between the recipe and the review\n",
        "                cosine_sim = cosine_similarity([recipe_embedding], [review_embedding])[0][0]\n",
        "\n",
        "                # Compute the average similarity (original similarity + review similarity)\n",
        "                combined_similarity = (top_scores[i][0] + cosine_sim) / 2\n",
        "        else:  # Recipe without reviews\n",
        "            combined_similarity = (top_scores[i][0] + avg_sim) / 2  # Combine original similarity with average similarity\n",
        "\n",
        "        # Store the final similarity and corresponding recipe id\n",
        "        similarity_scores.append((recipe_id, combined_similarity))\n",
        "\n",
        "    # Step 3: Sort the recipes based on the final combined similarity score in descending order\n",
        "    similarity_scores.sort(key=lambda x: x[1], reverse=True)\n",
        "\n",
        "    # Step 4: Get the top 3 recipes\n",
        "    top_3_recipes = similarity_scores[:3]\n",
        "\n",
        "    # Return the top 3 recipes\n",
        "    top_3_recipe_ids = [recipe_id for recipe_id, score in top_3_recipes]\n",
        "\n",
        "    return top_3_recipe_ids\n",
        "\n",
        "\n",
        "# Call the function to get the top 3 recipes based on the final similarity\n",
        "top_3_recipe_ids = compute_final_similarities(top_20_recipes, top_20_recipe_embeddings, matching_embeddings, top_scores)\n",
        "vector_ids = [int(recipe_id) for recipe_id in top_3_recipe_ids]\n",
        "\n",
        "print(f\"Top 3 Recipe IDs: {vector_ids}\")"
      ]
    },
    {
      "cell_type": "markdown",
      "metadata": {
        "id": "j_Bp4zs5qoyY"
      },
      "source": [
        "Now that we have the best 3 recipes we show them to the user!"
      ]
    },
    {
      "cell_type": "code",
      "execution_count": null,
      "metadata": {
        "id": "ZrKdwXD9qoyY"
      },
      "outputs": [],
      "source": [
        "import pandas as pd\n",
        "import numpy as np\n",
        "import kagglehub\n",
        "import re\n",
        "import os\n",
        "# Download latest version\n",
        "path = kagglehub.dataset_download(\"irkaal/foodcom-recipes-and-reviews\")\n",
        "csv_files = [f for f in os.listdir(path) if f.endswith('.csv')]\n",
        "recipes_file_path = os.path.join(path, csv_files[1])\n",
        "reviews_file_path = os.path.join(path, csv_files[0])\n",
        "df = pd.read_csv(recipes_file_path)"
      ]
    },
    {
      "cell_type": "code",
      "execution_count": null,
      "metadata": {
        "id": "4115KWDSvzqX",
        "outputId": "1f7f540b-7940-4b4c-9e55-bd84560905dc"
      },
      "outputs": [
        {
          "data": {
            "text/html": [
              "\n",
              "    <div style=\"font-family: Arial; padding: 10px; border-radius: 5px; border: 1px solid #ddd; margin-bottom: 10px;\">\n",
              "        <div style=\"display: flex; justify-content: space-between; align-items: center;\">\n",
              "            <h2 style=\"color: #333; margin: 0 0 5px 0;\">My Daily Bagel Breakfast</h2>\n",
              "            <span style='color: #888; font-size: 0.9em;'>Rank 1/3</span>\n",
              "        </div>\n",
              "        <div style=\"display: flex; justify-content: space-between; align-items: center;\">\n",
              "            <span style=\"color: #666; font-size: 0.9em;\">By nomnom | Breakfast</span>\n",
              "            <span style=\"font-size: 1em; color: #f6ab00;\">★★★★★ (5)</span>\n",
              "        </div>\n",
              "    </div>\n",
              "    "
            ],
            "text/plain": [
              "<IPython.core.display.HTML object>"
            ]
          },
          "metadata": {},
          "output_type": "display_data"
        },
        {
          "data": {
            "text/html": [
              "<div style='display: flex; flex-wrap: wrap; gap: 10px; margin: 10px 0;'><div style='padding: 5px 10px; background-color: #f0f8ff; border-radius: 4px;'><b>Time:</b> < 1m</div><div style='padding: 5px 10px; background-color: #f0f8ff; border-radius: 4px;'><b>Calories:</b> 583.4 kcal</div><div style='padding: 5px 10px; background-color: #f0f8ff; border-radius: 4px;'><b>Servings:</b> 1.0</div><div style='padding: 5px 10px; background-color: #f0fff0; border-radius: 4px;'><b>Carbs:</b> 82.3%</div><div style='padding: 5px 10px; background-color: #f0fff0; border-radius: 4px;'><b>Protein:</b> 15.8%</div><div style='padding: 5px 10px; background-color: #f0fff0; border-radius: 4px;'><b>Fat:</b> 1.9%</div></div>"
            ],
            "text/plain": [
              "<IPython.core.display.HTML object>"
            ]
          },
          "metadata": {},
          "output_type": "display_data"
        },
        {
          "data": {
            "text/html": [
              "\n",
              "    <div style='font-family: Arial; margin: 10px 0;'>\n",
              "        <h4 style='margin-top: 0; margin-bottom: 5px;'>Ingredients</h4>\n",
              "        <ul style='margin: 0 0 10px 0; padding-left: 20px;'>\n",
              "    <li><b>raisins:</b> 3</li><li><b>banana:</b> 1</li><li><b>bagel:</b> 1/4</li><li><b>skim milk:</b> 1</li>\n",
              "        </ul>\n",
              "        <h4 style='margin-top: 10px; margin-bottom: 5px;'>Instructions</h4>\n",
              "        <p style='margin: 0;'>Mash the banana and mix with raisins and cereal.\n",
              "Cut the bagel into quarters and toast to desired (would you call it...?)\\\n",
              " Spread the banana mixture evenly over bagel pieces.\n",
              "Dunk in glass of milk and enjoy.\n",
              "NOTES: I usually use a blueberry bagel to give added flavor and use Fiber One or All-Bran as the cereal (I LOVE Bran cereals, believe it or not).\n",
              "You can use this recipe as a template for any variation.\n",
              "Feel free to increase, decrease, substitute, or eliminate ingredients.\n",
              "However, the banana acts as a\\\n",
              " to hold the mixture to the bagel.\n",
              "NOTE 2: Just as a friendly warning, the breakfast can get a little messy when consuming because sometimes the spread falls off the bagel (usually into the milk with a slight\\\n",
              ") and your fingers get sticky.\n",
              "Yet I feel it's worth it because this is so tasty.\n",
              "I have it every morning.</p>\n",
              "    </div>\n",
              "    "
            ],
            "text/plain": [
              "<IPython.core.display.HTML object>"
            ]
          },
          "metadata": {},
          "output_type": "display_data"
        },
        {
          "data": {
            "text/html": [
              "<div style='margin: 5px 0;'><span style='background-color: #eaeaea; padding: 2px 8px; border-radius: 10px; font-size: 0.8em; margin-right: 5px;'>Grains</span><span style='background-color: #eaeaea; padding: 2px 8px; border-radius: 10px; font-size: 0.8em; margin-right: 5px;'>Fruit</span><span style='background-color: #eaeaea; padding: 2px 8px; border-radius: 10px; font-size: 0.8em; margin-right: 5px;'>< 15 Mins</span><span style='background-color: #eaeaea; padding: 2px 8px; border-radius: 10px; font-size: 0.8em; margin-right: 5px;'>Beginner Cook</span><span style='background-color: #eaeaea; padding: 2px 8px; border-radius: 10px; font-size: 0.8em; margin-right: 5px;'>Easy</span></div>"
            ],
            "text/plain": [
              "<IPython.core.display.HTML object>"
            ]
          },
          "metadata": {},
          "output_type": "display_data"
        },
        {
          "data": {
            "text/html": [
              "<hr style='margin: 20px 0; border: 0; border-top: 1px dashed #ccc;'>"
            ],
            "text/plain": [
              "<IPython.core.display.HTML object>"
            ]
          },
          "metadata": {},
          "output_type": "display_data"
        },
        {
          "data": {
            "text/html": [
              "\n",
              "    <div style=\"font-family: Arial; padding: 10px; border-radius: 5px; border: 1px solid #ddd; margin-bottom: 10px;\">\n",
              "        <div style=\"display: flex; justify-content: space-between; align-items: center;\">\n",
              "            <h2 style=\"color: #333; margin: 0 0 5px 0;\">B's Breakfast Bagel</h2>\n",
              "            <span style='color: #888; font-size: 0.9em;'>Rank 2/3</span>\n",
              "        </div>\n",
              "        <div style=\"display: flex; justify-content: space-between; align-items: center;\">\n",
              "            <span style=\"color: #666; font-size: 0.9em;\">By JLBurnell | Breakfast</span>\n",
              "            <span style=\"font-size: 1em; color: #f6ab00;\">★★★★★ (1)</span>\n",
              "        </div>\n",
              "    </div>\n",
              "    "
            ],
            "text/plain": [
              "<IPython.core.display.HTML object>"
            ]
          },
          "metadata": {},
          "output_type": "display_data"
        },
        {
          "data": {
            "text/html": [
              "<div style='display: flex; flex-wrap: wrap; gap: 10px; margin: 10px 0;'><div style='padding: 5px 10px; background-color: #f0f8ff; border-radius: 4px;'><b>Time:</b> 10m</div><div style='padding: 5px 10px; background-color: #f0f8ff; border-radius: 4px;'><b>Calories:</b> 550.8 kcal</div><div style='padding: 5px 10px; background-color: #f0f8ff; border-radius: 4px;'><b>Servings:</b> 2.0</div><div style='padding: 5px 10px; background-color: #f0fff0; border-radius: 4px;'><b>Carbs:</b> 61.1%</div><div style='padding: 5px 10px; background-color: #f0fff0; border-radius: 4px;'><b>Protein:</b> 14.2%</div><div style='padding: 5px 10px; background-color: #f0fff0; border-radius: 4px;'><b>Fat:</b> 24.7%</div></div>"
            ],
            "text/plain": [
              "<IPython.core.display.HTML object>"
            ]
          },
          "metadata": {},
          "output_type": "display_data"
        },
        {
          "data": {
            "text/html": [
              "\n",
              "    <div style='font-family: Arial; margin: 10px 0;'>\n",
              "        <h4 style='margin-top: 0; margin-bottom: 5px;'>Ingredients</h4>\n",
              "        <ul style='margin: 0 0 10px 0; padding-left: 20px;'>\n",
              "    <li><b>bagels:</b> 2</li><li><b>cream cheese:</b> 4</li><li><b>avocado:</b> 1</li><li><b>ham:</b> 6</li>\n",
              "        </ul>\n",
              "        <h4 style='margin-top: 10px; margin-bottom: 5px;'>Instructions</h4>\n",
              "        <p style='margin: 0;'>Toast the bagels.\n",
              "Meanwhile, cut and pit avocado.\n",
              "Once bagels are toasted, spread with half the bagel with 2 tablespoons cream cheese.\n",
              "Take one half of the avocado, spoon it out, and spread it on other half of bagel.\n",
              "Add 3 slices of ham.\n",
              "Enjoy!</p>\n",
              "    </div>\n",
              "    "
            ],
            "text/plain": [
              "<IPython.core.display.HTML object>"
            ]
          },
          "metadata": {},
          "output_type": "display_data"
        },
        {
          "data": {
            "text/html": [
              "<div style='margin: 5px 0;'><span style='background-color: #eaeaea; padding: 2px 8px; border-radius: 10px; font-size: 0.8em; margin-right: 5px;'>< 15 Mins</span><span style='background-color: #eaeaea; padding: 2px 8px; border-radius: 10px; font-size: 0.8em; margin-right: 5px;'>Easy</span></div>"
            ],
            "text/plain": [
              "<IPython.core.display.HTML object>"
            ]
          },
          "metadata": {},
          "output_type": "display_data"
        },
        {
          "data": {
            "text/html": [
              "<hr style='margin: 20px 0; border: 0; border-top: 1px dashed #ccc;'>"
            ],
            "text/plain": [
              "<IPython.core.display.HTML object>"
            ]
          },
          "metadata": {},
          "output_type": "display_data"
        },
        {
          "data": {
            "text/html": [
              "\n",
              "    <div style=\"font-family: Arial; padding: 10px; border-radius: 5px; border: 1px solid #ddd; margin-bottom: 10px;\">\n",
              "        <div style=\"display: flex; justify-content: space-between; align-items: center;\">\n",
              "            <h2 style=\"color: #333; margin: 0 0 5px 0;\">Ham &amp; Cheese Ramen Noodles ^_^ Cheap Budget Meal</h2>\n",
              "            <span style='color: #888; font-size: 0.9em;'>Rank 3/3</span>\n",
              "        </div>\n",
              "        <div style=\"display: flex; justify-content: space-between; align-items: center;\">\n",
              "            <span style=\"color: #666; font-size: 0.9em;\">By RavenousRavenDesign | Lunch/Snacks</span>\n",
              "            <span style=\"font-size: 1em; color: #f6ab00;\">★★★★ (4)</span>\n",
              "        </div>\n",
              "    </div>\n",
              "    "
            ],
            "text/plain": [
              "<IPython.core.display.HTML object>"
            ]
          },
          "metadata": {},
          "output_type": "display_data"
        },
        {
          "data": {
            "text/html": [
              "\n",
              "        <div style=\"margin: 10px 0; max-width: 100%; overflow-x: auto;\">\n",
              "            <div style=\"display: flex; gap: 5px;\">\n",
              "        \n",
              "            <div style=\"flex: 0 0 auto; width: 150px; height: 100px;\">\n",
              "                <img src=\"https://img.sndimg.com/food/image/upload/w_555,h_416,c_fit,fl_progressive,q_95/v1/img/recipes/39/72/32/picxOvnhu.jpg\" style=\"width: 100%; height: 100%; object-fit: cover; border-radius: 3px;\">\n",
              "            </div>\n",
              "            \n",
              "            <div style=\"flex: 0 0 auto; width: 150px; height: 100px;\">\n",
              "                <img src=\"https://img.sndimg.com/food/image/upload/w_555,h_416,c_fit,fl_progressive,q_95/v1/img/recipes/39/72/32/picNUgX1F.jpg\" style=\"width: 100%; height: 100%; object-fit: cover; border-radius: 3px;\">\n",
              "            </div>\n",
              "            \n",
              "            </div>\n",
              "        </div>\n",
              "        "
            ],
            "text/plain": [
              "<IPython.core.display.HTML object>"
            ]
          },
          "metadata": {},
          "output_type": "display_data"
        },
        {
          "data": {
            "text/html": [
              "<div style='display: flex; flex-wrap: wrap; gap: 10px; margin: 10px 0;'><div style='padding: 5px 10px; background-color: #f0f8ff; border-radius: 4px;'><b>Time:</b> 10m</div><div style='padding: 5px 10px; background-color: #f0f8ff; border-radius: 4px;'><b>Calories:</b> 602.9 kcal</div><div style='padding: 5px 10px; background-color: #f0f8ff; border-radius: 4px;'><b>Servings:</b> 1.0</div><div style='padding: 5px 10px; background-color: #f0fff0; border-radius: 4px;'><b>Carbs:</b> 11.4%</div><div style='padding: 5px 10px; background-color: #f0fff0; border-radius: 4px;'><b>Protein:</b> 54.7%</div><div style='padding: 5px 10px; background-color: #f0fff0; border-radius: 4px;'><b>Fat:</b> 33.9%</div></div>"
            ],
            "text/plain": [
              "<IPython.core.display.HTML object>"
            ]
          },
          "metadata": {},
          "output_type": "display_data"
        },
        {
          "data": {
            "text/html": [
              "\n",
              "    <div style='font-family: Arial; margin: 10px 0;'>\n",
              "        <h4 style='margin-top: 0; margin-bottom: 5px;'>Ingredients</h4>\n",
              "        <ul style='margin: 0 0 10px 0; padding-left: 20px;'>\n",
              "    <li><b>ham slices:</b> 1</li><li><b>cheddar cheese:</b> 3 -4</li><li><b>water:</b> 1/4</li>\n",
              "        </ul>\n",
              "        <h4 style='margin-top: 10px; margin-bottom: 5px;'>Instructions</h4>\n",
              "        <p style='margin: 0;'>Pour 1 cup water in a pan.\n",
              "Put noodles in water.\n",
              "Set noodles and water to boiling.\n",
              "Once noodles have broken up rip the ham in little bite size pieces and place over the noodles.\n",
              "Just before too much water evaporates remove from stove. I like just about a tablespoon of water leftover.\n",
              "Add seasoning packet and stir around well.\n",
              "Top with cheese, let melt and enjoy!\n",
              "Important! Make sure you keep a close eye on this recipe as it cooks very fast.</p>\n",
              "    </div>\n",
              "    "
            ],
            "text/plain": [
              "<IPython.core.display.HTML object>"
            ]
          },
          "metadata": {},
          "output_type": "display_data"
        },
        {
          "data": {
            "text/html": [
              "<div style='margin: 5px 0;'><span style='background-color: #eaeaea; padding: 2px 8px; border-radius: 10px; font-size: 0.8em; margin-right: 5px;'>Weeknight</span><span style='background-color: #eaeaea; padding: 2px 8px; border-radius: 10px; font-size: 0.8em; margin-right: 5px;'>< 15 Mins</span><span style='background-color: #eaeaea; padding: 2px 8px; border-radius: 10px; font-size: 0.8em; margin-right: 5px;'>Beginner Cook</span><span style='background-color: #eaeaea; padding: 2px 8px; border-radius: 10px; font-size: 0.8em; margin-right: 5px;'>Easy</span><span style='background-color: #eaeaea; padding: 2px 8px; border-radius: 10px; font-size: 0.8em; margin-right: 5px;'>Inexpensive</span></div>"
            ],
            "text/plain": [
              "<IPython.core.display.HTML object>"
            ]
          },
          "metadata": {},
          "output_type": "display_data"
        },
        {
          "data": {
            "text/html": [
              "<hr style='margin: 20px 0; border: 0; border-top: 1px dashed #ccc;'>"
            ],
            "text/plain": [
              "<IPython.core.display.HTML object>"
            ]
          },
          "metadata": {},
          "output_type": "display_data"
        }
      ],
      "source": [
        "records = df[df[\"RecipeId\"].isin(vector_ids)].to_dict(orient=\"records\")\n",
        "display_recipes_ranked(records)"
      ]
    }
  ],
  "metadata": {
    "colab": {
      "collapsed_sections": [
        "GkgzxkJLbnzJ",
        "lShIm0mTaK-n",
        "Q6RxOZD7aMc_",
        "v0ih5GzQiyjA",
        "Il4LyCj4AJvv",
        "BBXdDDMhqoyX",
        "QZX_FlAzWIgI",
        "Pt6wshI4qoyX"
      ],
      "provenance": []
    },
    "kernelspec": {
      "display_name": "Python 3 (ipykernel)",
      "language": "python",
      "name": "python3"
    },
    "language_info": {
      "codemirror_mode": {
        "name": "ipython",
        "version": 3
      },
      "file_extension": ".py",
      "mimetype": "text/x-python",
      "name": "python",
      "nbconvert_exporter": "python",
      "pygments_lexer": "ipython3",
      "version": "3.13.1"
    }
  },
  "nbformat": 4,
  "nbformat_minor": 0
}