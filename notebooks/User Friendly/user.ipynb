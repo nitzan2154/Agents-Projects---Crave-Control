{
 "cells": [
  {
   "cell_type": "markdown",
   "metadata": {},
   "source": [
    "# User notebook\n",
    "\n",
    "The following notebook uses a wrapped version of the code in the notebook, allowing ease of use for the end user."
   ]
  },
  {
   "cell_type": "code",
   "execution_count": null,
   "metadata": {},
   "outputs": [],
   "source": [
    "from pipeline import run\n",
    "from display import display_recipes_ranked"
   ]
  },
  {
   "cell_type": "markdown",
   "metadata": {},
   "source": [
    "# **System Prompt:**\n",
    "\n",
    "Hi there! I'm CraveControl, your friendly meal-finding assistant. \n",
    "\n",
    "I'm here to help you discover the perfect meal that matches your ideal calorie needs and taste preferences. \n",
    "\n",
    "To get started, could you share a bit about yourself and your current cravings?\n",
    "\n",
    "Let me know details like your age, weight, height, workout habits, any dietary preferences or restrictions, and even what ingredients you have on hand. Your input will help me tailor the best, healthiest meal options just for you!"
   ]
  },
  {
   "cell_type": "code",
   "execution_count": null,
   "metadata": {},
   "outputs": [],
   "source": [
    "records = run(\"\"\"I'm daniel 33 years old, weight 50 kg, and I'm 170cm tall.\n",
    "I'm female and I work out 6 times a week.\n",
    "I want a heavy dinner with bagel with bacon, egg and cheese.\n",
    "I have ham and bagel and tomato in my fridge.\"\"\")"
   ]
  },
  {
   "cell_type": "code",
   "execution_count": 4,
   "metadata": {},
   "outputs": [
    {
     "data": {
      "text/html": [
       "\n",
       "    <div style=\"font-family: Arial; padding: 10px; border-radius: 5px; border: 1px solid #ddd; margin-bottom: 10px;\">\n",
       "        <div style=\"display: flex; justify-content: space-between; align-items: center;\">\n",
       "            <h2 style=\"color: #333; margin: 0 0 5px 0;\">My Daily Bagel Breakfast</h2>\n",
       "            <span style='color: #888; font-size: 0.9em;'>Rank 1/3</span>\n",
       "        </div>\n",
       "        <div style=\"display: flex; justify-content: space-between; align-items: center;\">\n",
       "            <span style=\"color: #666; font-size: 0.9em;\">By nomnom | Breakfast</span>\n",
       "            <span style=\"font-size: 1em; color: #f6ab00;\">★★★★★ (5)</span>\n",
       "        </div>\n",
       "    </div>\n",
       "    "
      ],
      "text/plain": [
       "<IPython.core.display.HTML object>"
      ]
     },
     "metadata": {},
     "output_type": "display_data"
    },
    {
     "data": {
      "text/html": [
       "<div style='display: flex; flex-wrap: wrap; gap: 10px; margin: 10px 0;'><div style='padding: 5px 10px; background-color: #f0f8ff; border-radius: 4px;'><b>Time:</b> < 1m</div><div style='padding: 5px 10px; background-color: #f0f8ff; border-radius: 4px;'><b>Calories:</b> 583.4 kcal</div><div style='padding: 5px 10px; background-color: #f0f8ff; border-radius: 4px;'><b>Servings:</b> 1.0</div><div style='padding: 5px 10px; background-color: #f0fff0; border-radius: 4px;'><b>Carbs:</b> 82.3%</div><div style='padding: 5px 10px; background-color: #f0fff0; border-radius: 4px;'><b>Protein:</b> 15.8%</div><div style='padding: 5px 10px; background-color: #f0fff0; border-radius: 4px;'><b>Fat:</b> 1.9%</div></div>"
      ],
      "text/plain": [
       "<IPython.core.display.HTML object>"
      ]
     },
     "metadata": {},
     "output_type": "display_data"
    },
    {
     "data": {
      "text/html": [
       "\n",
       "    <div style='font-family: Arial; margin: 10px 0;'>\n",
       "        <h4 style='margin-top: 0; margin-bottom: 5px;'>Ingredients</h4>\n",
       "        <ul style='margin: 0 0 10px 0; padding-left: 20px;'>\n",
       "    <li><b>raisins:</b> 3</li><li><b>banana:</b> 1</li><li><b>bagel:</b> 1/4</li><li><b>skim milk:</b> 1</li>\n",
       "        </ul>\n",
       "        <h4 style='margin-top: 10px; margin-bottom: 5px;'>Instructions</h4>\n",
       "        <p style='margin: 0;'>Mash the banana and mix with raisins and cereal.\n",
       "Cut the bagel into quarters and toast to desired (would you call it...?)\\\n",
       " Spread the banana mixture evenly over bagel pieces.\n",
       "Dunk in glass of milk and enjoy.\n",
       "NOTES: I usually use a blueberry bagel to give added flavor and use Fiber One or All-Bran as the cereal (I LOVE Bran cereals, believe it or not).\n",
       "You can use this recipe as a template for any variation.\n",
       "Feel free to increase, decrease, substitute, or eliminate ingredients.\n",
       "However, the banana acts as a\\\n",
       " to hold the mixture to the bagel.\n",
       "NOTE 2: Just as a friendly warning, the breakfast can get a little messy when consuming because sometimes the spread falls off the bagel (usually into the milk with a slight\\\n",
       ") and your fingers get sticky.\n",
       "Yet I feel it's worth it because this is so tasty.\n",
       "I have it every morning.</p>\n",
       "    </div>\n",
       "    "
      ],
      "text/plain": [
       "<IPython.core.display.HTML object>"
      ]
     },
     "metadata": {},
     "output_type": "display_data"
    },
    {
     "data": {
      "text/html": [
       "<div style='margin: 5px 0;'><span style='background-color: #eaeaea; padding: 2px 8px; border-radius: 10px; font-size: 0.8em; margin-right: 5px;'>Grains</span><span style='background-color: #eaeaea; padding: 2px 8px; border-radius: 10px; font-size: 0.8em; margin-right: 5px;'>Fruit</span><span style='background-color: #eaeaea; padding: 2px 8px; border-radius: 10px; font-size: 0.8em; margin-right: 5px;'>< 15 Mins</span><span style='background-color: #eaeaea; padding: 2px 8px; border-radius: 10px; font-size: 0.8em; margin-right: 5px;'>Beginner Cook</span><span style='background-color: #eaeaea; padding: 2px 8px; border-radius: 10px; font-size: 0.8em; margin-right: 5px;'>Easy</span></div>"
      ],
      "text/plain": [
       "<IPython.core.display.HTML object>"
      ]
     },
     "metadata": {},
     "output_type": "display_data"
    },
    {
     "data": {
      "text/html": [
       "<hr style='margin: 20px 0; border: 0; border-top: 1px dashed #ccc;'>"
      ],
      "text/plain": [
       "<IPython.core.display.HTML object>"
      ]
     },
     "metadata": {},
     "output_type": "display_data"
    },
    {
     "data": {
      "text/html": [
       "\n",
       "    <div style=\"font-family: Arial; padding: 10px; border-radius: 5px; border: 1px solid #ddd; margin-bottom: 10px;\">\n",
       "        <div style=\"display: flex; justify-content: space-between; align-items: center;\">\n",
       "            <h2 style=\"color: #333; margin: 0 0 5px 0;\">B's Breakfast Bagel</h2>\n",
       "            <span style='color: #888; font-size: 0.9em;'>Rank 2/3</span>\n",
       "        </div>\n",
       "        <div style=\"display: flex; justify-content: space-between; align-items: center;\">\n",
       "            <span style=\"color: #666; font-size: 0.9em;\">By JLBurnell | Breakfast</span>\n",
       "            <span style=\"font-size: 1em; color: #f6ab00;\">★★★★★ (1)</span>\n",
       "        </div>\n",
       "    </div>\n",
       "    "
      ],
      "text/plain": [
       "<IPython.core.display.HTML object>"
      ]
     },
     "metadata": {},
     "output_type": "display_data"
    },
    {
     "data": {
      "text/html": [
       "<div style='display: flex; flex-wrap: wrap; gap: 10px; margin: 10px 0;'><div style='padding: 5px 10px; background-color: #f0f8ff; border-radius: 4px;'><b>Time:</b> 10m</div><div style='padding: 5px 10px; background-color: #f0f8ff; border-radius: 4px;'><b>Calories:</b> 550.8 kcal</div><div style='padding: 5px 10px; background-color: #f0f8ff; border-radius: 4px;'><b>Servings:</b> 2.0</div><div style='padding: 5px 10px; background-color: #f0fff0; border-radius: 4px;'><b>Carbs:</b> 61.1%</div><div style='padding: 5px 10px; background-color: #f0fff0; border-radius: 4px;'><b>Protein:</b> 14.2%</div><div style='padding: 5px 10px; background-color: #f0fff0; border-radius: 4px;'><b>Fat:</b> 24.7%</div></div>"
      ],
      "text/plain": [
       "<IPython.core.display.HTML object>"
      ]
     },
     "metadata": {},
     "output_type": "display_data"
    },
    {
     "data": {
      "text/html": [
       "\n",
       "    <div style='font-family: Arial; margin: 10px 0;'>\n",
       "        <h4 style='margin-top: 0; margin-bottom: 5px;'>Ingredients</h4>\n",
       "        <ul style='margin: 0 0 10px 0; padding-left: 20px;'>\n",
       "    <li><b>bagels:</b> 2</li><li><b>cream cheese:</b> 4</li><li><b>avocado:</b> 1</li><li><b>ham:</b> 6</li>\n",
       "        </ul>\n",
       "        <h4 style='margin-top: 10px; margin-bottom: 5px;'>Instructions</h4>\n",
       "        <p style='margin: 0;'>Toast the bagels.\n",
       "Meanwhile, cut and pit avocado.\n",
       "Once bagels are toasted, spread with half the bagel with 2 tablespoons cream cheese.\n",
       "Take one half of the avocado, spoon it out, and spread it on other half of bagel.\n",
       "Add 3 slices of ham.\n",
       "Enjoy!</p>\n",
       "    </div>\n",
       "    "
      ],
      "text/plain": [
       "<IPython.core.display.HTML object>"
      ]
     },
     "metadata": {},
     "output_type": "display_data"
    },
    {
     "data": {
      "text/html": [
       "<div style='margin: 5px 0;'><span style='background-color: #eaeaea; padding: 2px 8px; border-radius: 10px; font-size: 0.8em; margin-right: 5px;'>< 15 Mins</span><span style='background-color: #eaeaea; padding: 2px 8px; border-radius: 10px; font-size: 0.8em; margin-right: 5px;'>Easy</span></div>"
      ],
      "text/plain": [
       "<IPython.core.display.HTML object>"
      ]
     },
     "metadata": {},
     "output_type": "display_data"
    },
    {
     "data": {
      "text/html": [
       "<hr style='margin: 20px 0; border: 0; border-top: 1px dashed #ccc;'>"
      ],
      "text/plain": [
       "<IPython.core.display.HTML object>"
      ]
     },
     "metadata": {},
     "output_type": "display_data"
    },
    {
     "data": {
      "text/html": [
       "\n",
       "    <div style=\"font-family: Arial; padding: 10px; border-radius: 5px; border: 1px solid #ddd; margin-bottom: 10px;\">\n",
       "        <div style=\"display: flex; justify-content: space-between; align-items: center;\">\n",
       "            <h2 style=\"color: #333; margin: 0 0 5px 0;\">Ham and Cheese Pizza Mini-Bagels</h2>\n",
       "            <span style='color: #888; font-size: 0.9em;'>Rank 3/3</span>\n",
       "        </div>\n",
       "        <div style=\"display: flex; justify-content: space-between; align-items: center;\">\n",
       "            <span style=\"color: #666; font-size: 0.9em;\">By pamela t. | Lunch/Snacks</span>\n",
       "            <span style=\"font-size: 1em; color: #f6ab00;\">★★★★★ (7)</span>\n",
       "        </div>\n",
       "    </div>\n",
       "    "
      ],
      "text/plain": [
       "<IPython.core.display.HTML object>"
      ]
     },
     "metadata": {},
     "output_type": "display_data"
    },
    {
     "data": {
      "text/html": [
       "\n",
       "        <div style=\"margin: 10px 0; max-width: 100%; overflow-x: auto;\">\n",
       "            <div style=\"display: flex; gap: 5px;\">\n",
       "        \n",
       "            <div style=\"flex: 0 0 auto; width: 150px; height: 100px;\">\n",
       "                <img src=\"https://img.sndimg.com/food/image/upload/w_555,h_416,c_fit,fl_progressive,q_95/v1/img/recipes/36/52/69/picFOjhqD.jpg\" style=\"width: 100%; height: 100%; object-fit: cover; border-radius: 3px;\">\n",
       "            </div>\n",
       "            \n",
       "            <div style=\"flex: 0 0 auto; width: 150px; height: 100px;\">\n",
       "                <img src=\"https://img.sndimg.com/food/image/upload/w_555,h_416,c_fit,fl_progressive,q_95/v1/img/recipes/36/52/69/picRMD5Q7.jpg\" style=\"width: 100%; height: 100%; object-fit: cover; border-radius: 3px;\">\n",
       "            </div>\n",
       "            \n",
       "            <div style=\"flex: 0 0 auto; width: 150px; height: 100px;\">\n",
       "                <img src=\"https://img.sndimg.com/food/image/upload/w_555,h_416,c_fit,fl_progressive,q_95/v1/img/recipes/36/52/69/picSCCVMO.jpg\" style=\"width: 100%; height: 100%; object-fit: cover; border-radius: 3px;\">\n",
       "            </div>\n",
       "            \n",
       "            <div style=\"flex: 0 0 auto; width: 150px; height: 100px;\">\n",
       "                <img src=\"https://img.sndimg.com/food/image/upload/w_555,h_416,c_fit,fl_progressive,q_95/v1/img/recipes/36/52/69/picpt9xGu.jpg\" style=\"width: 100%; height: 100%; object-fit: cover; border-radius: 3px;\">\n",
       "            </div>\n",
       "            \n",
       "            </div>\n",
       "        </div>\n",
       "        "
      ],
      "text/plain": [
       "<IPython.core.display.HTML object>"
      ]
     },
     "metadata": {},
     "output_type": "display_data"
    },
    {
     "data": {
      "text/html": [
       "<div style='display: flex; flex-wrap: wrap; gap: 10px; margin: 10px 0;'><div style='padding: 5px 10px; background-color: #f0f8ff; border-radius: 4px;'><b>Time:</b> 18m</div><div style='padding: 5px 10px; background-color: #f0f8ff; border-radius: 4px;'><b>Calories:</b> 439.6 kcal</div><div style='padding: 5px 10px; background-color: #f0f8ff; border-radius: 4px;'><b>Servings:</b> 6.0</div><div style='padding: 5px 10px; background-color: #f0fff0; border-radius: 4px;'><b>Carbs:</b> 62.8%</div><div style='padding: 5px 10px; background-color: #f0fff0; border-radius: 4px;'><b>Protein:</b> 18.1%</div><div style='padding: 5px 10px; background-color: #f0fff0; border-radius: 4px;'><b>Fat:</b> 19.1%</div></div>"
      ],
      "text/plain": [
       "<IPython.core.display.HTML object>"
      ]
     },
     "metadata": {},
     "output_type": "display_data"
    },
    {
     "data": {
      "text/html": [
       "\n",
       "    <div style='font-family: Arial; margin: 10px 0;'>\n",
       "        <h4 style='margin-top: 0; margin-bottom: 5px;'>Ingredients</h4>\n",
       "        <ul style='margin: 0 0 10px 0; padding-left: 20px;'>\n",
       "    <li><b>colby cheese:</b> 1</li><li><b>deli ham:</b> 1/2</li><li><b>mayonnaise:</b> 1/2</li><li><b>bacon:</b> 4</li><li><b>miniature bagels:</b> 6</li>\n",
       "        </ul>\n",
       "        <h4 style='margin-top: 10px; margin-bottom: 5px;'>Instructions</h4>\n",
       "        <p style='margin: 0;'>Combine the first four ingredients.\n",
       "Spread equally over bagels.\n",
       "Place on an ungreased cookie sheet.\n",
       "Broil 2-3 minutes, until lightly browned and bubbly.</p>\n",
       "    </div>\n",
       "    "
      ],
      "text/plain": [
       "<IPython.core.display.HTML object>"
      ]
     },
     "metadata": {},
     "output_type": "display_data"
    },
    {
     "data": {
      "text/html": [
       "<div style='margin: 5px 0;'><span style='background-color: #eaeaea; padding: 2px 8px; border-radius: 10px; font-size: 0.8em; margin-right: 5px;'>Kid Friendly</span><span style='background-color: #eaeaea; padding: 2px 8px; border-radius: 10px; font-size: 0.8em; margin-right: 5px;'>< 30 Mins</span><span style='background-color: #eaeaea; padding: 2px 8px; border-radius: 10px; font-size: 0.8em; margin-right: 5px;'>Easy</span></div>"
      ],
      "text/plain": [
       "<IPython.core.display.HTML object>"
      ]
     },
     "metadata": {},
     "output_type": "display_data"
    },
    {
     "data": {
      "text/html": [
       "<hr style='margin: 20px 0; border: 0; border-top: 1px dashed #ccc;'>"
      ],
      "text/plain": [
       "<IPython.core.display.HTML object>"
      ]
     },
     "metadata": {},
     "output_type": "display_data"
    }
   ],
   "source": [
    "display_recipes_ranked(records)"
   ]
  },
  {
   "cell_type": "code",
   "execution_count": null,
   "metadata": {},
   "outputs": [
    {
     "name": "stdout",
     "output_type": "stream",
     "text": [
      "Found embeddings for 6 RecipeIds: ['137118', '491090', '427550', '263418', '514555', '292739']\n",
      "Top 3 Recipe IDs: [427550, 292739, 137118]\n"
     ]
    },
    {
     "data": {
      "text/html": [
       "\n",
       "    <div style=\"font-family: Arial; padding: 10px; border-radius: 5px; border: 1px solid #ddd; margin-bottom: 10px;\">\n",
       "        <div style=\"display: flex; justify-content: space-between; align-items: center;\">\n",
       "            <h2 style=\"color: #333; margin: 0 0 5px 0;\">My Berry Smoothie</h2>\n",
       "            <span style='color: #888; font-size: 0.9em;'>Rank 1/3</span>\n",
       "        </div>\n",
       "        <div style=\"display: flex; justify-content: space-between; align-items: center;\">\n",
       "            <span style=\"color: #666; font-size: 0.9em;\">By Neesie123 | Smoothies</span>\n",
       "            <span style=\"font-size: 1em; color: #f6ab00;\">★★★★★ (1)</span>\n",
       "        </div>\n",
       "    </div>\n",
       "    "
      ],
      "text/plain": [
       "<IPython.core.display.HTML object>"
      ]
     },
     "metadata": {},
     "output_type": "display_data"
    },
    {
     "data": {
      "text/html": [
       "<div style='display: flex; flex-wrap: wrap; gap: 10px; margin: 10px 0;'><div style='padding: 5px 10px; background-color: #f0f8ff; border-radius: 4px;'><b>Time:</b> 10m</div><div style='padding: 5px 10px; background-color: #f0f8ff; border-radius: 4px;'><b>Calories:</b> 414.2 kcal</div><div style='padding: 5px 10px; background-color: #f0f8ff; border-radius: 4px;'><b>Servings:</b> 1.0</div><div style='padding: 5px 10px; background-color: #f0fff0; border-radius: 4px;'><b>Carbs:</b> 86.6%</div><div style='padding: 5px 10px; background-color: #f0fff0; border-radius: 4px;'><b>Protein:</b> 12.3%</div><div style='padding: 5px 10px; background-color: #f0fff0; border-radius: 4px;'><b>Fat:</b> 1.1%</div></div>"
      ],
      "text/plain": [
       "<IPython.core.display.HTML object>"
      ]
     },
     "metadata": {},
     "output_type": "display_data"
    },
    {
     "data": {
      "text/html": [
       "\n",
       "    <div style='font-family: Arial; margin: 10px 0;'>\n",
       "        <h4 style='margin-top: 0; margin-bottom: 5px;'>Ingredients</h4>\n",
       "        <ul style='margin: 0 0 10px 0; padding-left: 20px;'>\n",
       "    <li><b>plain nonfat yogurt:</b> 3/4</li><li><b>banana:</b> 1/2</li><li><b>frozen strawberries:</b> 1/2</li><li><b>frozen blueberries:</b> 1</li><li><b>sugar:</b> 1/2</li>\n",
       "        </ul>\n",
       "        <h4 style='margin-top: 10px; margin-bottom: 5px;'>Instructions</h4>\n",
       "        <p style='margin: 0;'>Mix and enjoy!\n",
       "I also sometimes add frozen raspberries.\n",
       "This is just one serving for me - it's a big one, with about 300 calories (I eat 6 times a day, so this is a perfect small meal).\n",
       "My time on making it can be up to 10 minutes, but I don't have  a regular blender (just a hand-held).   So your time may be much less.\n",
       "Notes:  i throw in a few ice cube, some nutmeg (after mixing in nutmeg) or cinnamon, and today I topped it off with two tablespoons of whipped cream and some cinnamon (after mixing in nutmeg).</p>\n",
       "    </div>\n",
       "    "
      ],
      "text/plain": [
       "<IPython.core.display.HTML object>"
      ]
     },
     "metadata": {},
     "output_type": "display_data"
    },
    {
     "data": {
      "text/html": [
       "<div style='margin: 5px 0;'><span style='background-color: #eaeaea; padding: 2px 8px; border-radius: 10px; font-size: 0.8em; margin-right: 5px;'>Beverages</span><span style='background-color: #eaeaea; padding: 2px 8px; border-radius: 10px; font-size: 0.8em; margin-right: 5px;'>Low Protein</span><span style='background-color: #eaeaea; padding: 2px 8px; border-radius: 10px; font-size: 0.8em; margin-right: 5px;'>Low Cholesterol</span><span style='background-color: #eaeaea; padding: 2px 8px; border-radius: 10px; font-size: 0.8em; margin-right: 5px;'>Healthy</span><span style='background-color: #eaeaea; padding: 2px 8px; border-radius: 10px; font-size: 0.8em; margin-right: 5px;'>< 15 Mins</span></div>"
      ],
      "text/plain": [
       "<IPython.core.display.HTML object>"
      ]
     },
     "metadata": {},
     "output_type": "display_data"
    },
    {
     "data": {
      "text/html": [
       "<hr style='margin: 20px 0; border: 0; border-top: 1px dashed #ccc;'>"
      ],
      "text/plain": [
       "<IPython.core.display.HTML object>"
      ]
     },
     "metadata": {},
     "output_type": "display_data"
    },
    {
     "data": {
      "text/html": [
       "\n",
       "    <div style=\"font-family: Arial; padding: 10px; border-radius: 5px; border: 1px solid #ddd; margin-bottom: 10px;\">\n",
       "        <div style=\"display: flex; justify-content: space-between; align-items: center;\">\n",
       "            <h2 style=\"color: #333; margin: 0 0 5px 0;\">Adult Chocolate Milk With Spiced Rum</h2>\n",
       "            <span style='color: #888; font-size: 0.9em;'>Rank 2/3</span>\n",
       "        </div>\n",
       "        <div style=\"display: flex; justify-content: space-between; align-items: center;\">\n",
       "            <span style=\"color: #666; font-size: 0.9em;\">By WheresTheBeef | Beverages</span>\n",
       "            <span style=\"font-size: 1em; color: #f6ab00;\">★★★★ (5)</span>\n",
       "        </div>\n",
       "    </div>\n",
       "    "
      ],
      "text/plain": [
       "<IPython.core.display.HTML object>"
      ]
     },
     "metadata": {},
     "output_type": "display_data"
    },
    {
     "data": {
      "text/html": [
       "\n",
       "        <div style=\"margin: 10px 0; max-width: 100%; overflow-x: auto;\">\n",
       "            <div style=\"display: flex; gap: 5px;\">\n",
       "        \n",
       "            <div style=\"flex: 0 0 auto; width: 150px; height: 100px;\">\n",
       "                <img src=\"h\" style=\"width: 100%; height: 100%; object-fit: cover; border-radius: 3px;\">\n",
       "            </div>\n",
       "            \n",
       "            <div style=\"flex: 0 0 auto; width: 150px; height: 100px;\">\n",
       "                <img src=\"t\" style=\"width: 100%; height: 100%; object-fit: cover; border-radius: 3px;\">\n",
       "            </div>\n",
       "            \n",
       "            <div style=\"flex: 0 0 auto; width: 150px; height: 100px;\">\n",
       "                <img src=\"t\" style=\"width: 100%; height: 100%; object-fit: cover; border-radius: 3px;\">\n",
       "            </div>\n",
       "            \n",
       "            <div style=\"flex: 0 0 auto; width: 150px; height: 100px;\">\n",
       "                <img src=\"p\" style=\"width: 100%; height: 100%; object-fit: cover; border-radius: 3px;\">\n",
       "            </div>\n",
       "            \n",
       "            <div style=\"flex: 0 0 auto; width: 150px; height: 100px;\">\n",
       "                <img src=\"s\" style=\"width: 100%; height: 100%; object-fit: cover; border-radius: 3px;\">\n",
       "            </div>\n",
       "            \n",
       "            <div style=\"flex: 0 0 auto; width: 150px; height: 100px;\">\n",
       "                <img src=\":\" style=\"width: 100%; height: 100%; object-fit: cover; border-radius: 3px;\">\n",
       "            </div>\n",
       "            \n",
       "            <div style=\"flex: 0 0 auto; width: 150px; height: 100px;\">\n",
       "                <img src=\"/\" style=\"width: 100%; height: 100%; object-fit: cover; border-radius: 3px;\">\n",
       "            </div>\n",
       "            \n",
       "            <div style=\"flex: 0 0 auto; width: 150px; height: 100px;\">\n",
       "                <img src=\"/\" style=\"width: 100%; height: 100%; object-fit: cover; border-radius: 3px;\">\n",
       "            </div>\n",
       "            \n",
       "            <div style=\"flex: 0 0 auto; width: 150px; height: 100px;\">\n",
       "                <img src=\"i\" style=\"width: 100%; height: 100%; object-fit: cover; border-radius: 3px;\">\n",
       "            </div>\n",
       "            \n",
       "            <div style=\"flex: 0 0 auto; width: 150px; height: 100px;\">\n",
       "                <img src=\"m\" style=\"width: 100%; height: 100%; object-fit: cover; border-radius: 3px;\">\n",
       "            </div>\n",
       "            \n",
       "            <div style=\"flex: 0 0 auto; width: 150px; height: 100px;\">\n",
       "                <img src=\"g\" style=\"width: 100%; height: 100%; object-fit: cover; border-radius: 3px;\">\n",
       "            </div>\n",
       "            \n",
       "            <div style=\"flex: 0 0 auto; width: 150px; height: 100px;\">\n",
       "                <img src=\".\" style=\"width: 100%; height: 100%; object-fit: cover; border-radius: 3px;\">\n",
       "            </div>\n",
       "            \n",
       "            <div style=\"flex: 0 0 auto; width: 150px; height: 100px;\">\n",
       "                <img src=\"s\" style=\"width: 100%; height: 100%; object-fit: cover; border-radius: 3px;\">\n",
       "            </div>\n",
       "            \n",
       "            <div style=\"flex: 0 0 auto; width: 150px; height: 100px;\">\n",
       "                <img src=\"n\" style=\"width: 100%; height: 100%; object-fit: cover; border-radius: 3px;\">\n",
       "            </div>\n",
       "            \n",
       "            <div style=\"flex: 0 0 auto; width: 150px; height: 100px;\">\n",
       "                <img src=\"d\" style=\"width: 100%; height: 100%; object-fit: cover; border-radius: 3px;\">\n",
       "            </div>\n",
       "            \n",
       "            <div style=\"flex: 0 0 auto; width: 150px; height: 100px;\">\n",
       "                <img src=\"i\" style=\"width: 100%; height: 100%; object-fit: cover; border-radius: 3px;\">\n",
       "            </div>\n",
       "            \n",
       "            <div style=\"flex: 0 0 auto; width: 150px; height: 100px;\">\n",
       "                <img src=\"m\" style=\"width: 100%; height: 100%; object-fit: cover; border-radius: 3px;\">\n",
       "            </div>\n",
       "            \n",
       "            <div style=\"flex: 0 0 auto; width: 150px; height: 100px;\">\n",
       "                <img src=\"g\" style=\"width: 100%; height: 100%; object-fit: cover; border-radius: 3px;\">\n",
       "            </div>\n",
       "            \n",
       "            <div style=\"flex: 0 0 auto; width: 150px; height: 100px;\">\n",
       "                <img src=\".\" style=\"width: 100%; height: 100%; object-fit: cover; border-radius: 3px;\">\n",
       "            </div>\n",
       "            \n",
       "            <div style=\"flex: 0 0 auto; width: 150px; height: 100px;\">\n",
       "                <img src=\"c\" style=\"width: 100%; height: 100%; object-fit: cover; border-radius: 3px;\">\n",
       "            </div>\n",
       "            \n",
       "            <div style=\"flex: 0 0 auto; width: 150px; height: 100px;\">\n",
       "                <img src=\"o\" style=\"width: 100%; height: 100%; object-fit: cover; border-radius: 3px;\">\n",
       "            </div>\n",
       "            \n",
       "            <div style=\"flex: 0 0 auto; width: 150px; height: 100px;\">\n",
       "                <img src=\"m\" style=\"width: 100%; height: 100%; object-fit: cover; border-radius: 3px;\">\n",
       "            </div>\n",
       "            \n",
       "            <div style=\"flex: 0 0 auto; width: 150px; height: 100px;\">\n",
       "                <img src=\"/\" style=\"width: 100%; height: 100%; object-fit: cover; border-radius: 3px;\">\n",
       "            </div>\n",
       "            \n",
       "            <div style=\"flex: 0 0 auto; width: 150px; height: 100px;\">\n",
       "                <img src=\"f\" style=\"width: 100%; height: 100%; object-fit: cover; border-radius: 3px;\">\n",
       "            </div>\n",
       "            \n",
       "            <div style=\"flex: 0 0 auto; width: 150px; height: 100px;\">\n",
       "                <img src=\"o\" style=\"width: 100%; height: 100%; object-fit: cover; border-radius: 3px;\">\n",
       "            </div>\n",
       "            \n",
       "            <div style=\"flex: 0 0 auto; width: 150px; height: 100px;\">\n",
       "                <img src=\"o\" style=\"width: 100%; height: 100%; object-fit: cover; border-radius: 3px;\">\n",
       "            </div>\n",
       "            \n",
       "            <div style=\"flex: 0 0 auto; width: 150px; height: 100px;\">\n",
       "                <img src=\"d\" style=\"width: 100%; height: 100%; object-fit: cover; border-radius: 3px;\">\n",
       "            </div>\n",
       "            \n",
       "            <div style=\"flex: 0 0 auto; width: 150px; height: 100px;\">\n",
       "                <img src=\"/\" style=\"width: 100%; height: 100%; object-fit: cover; border-radius: 3px;\">\n",
       "            </div>\n",
       "            \n",
       "            <div style=\"flex: 0 0 auto; width: 150px; height: 100px;\">\n",
       "                <img src=\"i\" style=\"width: 100%; height: 100%; object-fit: cover; border-radius: 3px;\">\n",
       "            </div>\n",
       "            \n",
       "            <div style=\"flex: 0 0 auto; width: 150px; height: 100px;\">\n",
       "                <img src=\"m\" style=\"width: 100%; height: 100%; object-fit: cover; border-radius: 3px;\">\n",
       "            </div>\n",
       "            \n",
       "            <div style=\"flex: 0 0 auto; width: 150px; height: 100px;\">\n",
       "                <img src=\"a\" style=\"width: 100%; height: 100%; object-fit: cover; border-radius: 3px;\">\n",
       "            </div>\n",
       "            \n",
       "            <div style=\"flex: 0 0 auto; width: 150px; height: 100px;\">\n",
       "                <img src=\"g\" style=\"width: 100%; height: 100%; object-fit: cover; border-radius: 3px;\">\n",
       "            </div>\n",
       "            \n",
       "            <div style=\"flex: 0 0 auto; width: 150px; height: 100px;\">\n",
       "                <img src=\"e\" style=\"width: 100%; height: 100%; object-fit: cover; border-radius: 3px;\">\n",
       "            </div>\n",
       "            \n",
       "            <div style=\"flex: 0 0 auto; width: 150px; height: 100px;\">\n",
       "                <img src=\"/\" style=\"width: 100%; height: 100%; object-fit: cover; border-radius: 3px;\">\n",
       "            </div>\n",
       "            \n",
       "            <div style=\"flex: 0 0 auto; width: 150px; height: 100px;\">\n",
       "                <img src=\"u\" style=\"width: 100%; height: 100%; object-fit: cover; border-radius: 3px;\">\n",
       "            </div>\n",
       "            \n",
       "            <div style=\"flex: 0 0 auto; width: 150px; height: 100px;\">\n",
       "                <img src=\"p\" style=\"width: 100%; height: 100%; object-fit: cover; border-radius: 3px;\">\n",
       "            </div>\n",
       "            \n",
       "            <div style=\"flex: 0 0 auto; width: 150px; height: 100px;\">\n",
       "                <img src=\"l\" style=\"width: 100%; height: 100%; object-fit: cover; border-radius: 3px;\">\n",
       "            </div>\n",
       "            \n",
       "            <div style=\"flex: 0 0 auto; width: 150px; height: 100px;\">\n",
       "                <img src=\"o\" style=\"width: 100%; height: 100%; object-fit: cover; border-radius: 3px;\">\n",
       "            </div>\n",
       "            \n",
       "            <div style=\"flex: 0 0 auto; width: 150px; height: 100px;\">\n",
       "                <img src=\"a\" style=\"width: 100%; height: 100%; object-fit: cover; border-radius: 3px;\">\n",
       "            </div>\n",
       "            \n",
       "            <div style=\"flex: 0 0 auto; width: 150px; height: 100px;\">\n",
       "                <img src=\"d\" style=\"width: 100%; height: 100%; object-fit: cover; border-radius: 3px;\">\n",
       "            </div>\n",
       "            \n",
       "            <div style=\"flex: 0 0 auto; width: 150px; height: 100px;\">\n",
       "                <img src=\"/\" style=\"width: 100%; height: 100%; object-fit: cover; border-radius: 3px;\">\n",
       "            </div>\n",
       "            \n",
       "            <div style=\"flex: 0 0 auto; width: 150px; height: 100px;\">\n",
       "                <img src=\"w\" style=\"width: 100%; height: 100%; object-fit: cover; border-radius: 3px;\">\n",
       "            </div>\n",
       "            \n",
       "            <div style=\"flex: 0 0 auto; width: 150px; height: 100px;\">\n",
       "                <img src=\"_\" style=\"width: 100%; height: 100%; object-fit: cover; border-radius: 3px;\">\n",
       "            </div>\n",
       "            \n",
       "            <div style=\"flex: 0 0 auto; width: 150px; height: 100px;\">\n",
       "                <img src=\"5\" style=\"width: 100%; height: 100%; object-fit: cover; border-radius: 3px;\">\n",
       "            </div>\n",
       "            \n",
       "            <div style=\"flex: 0 0 auto; width: 150px; height: 100px;\">\n",
       "                <img src=\"5\" style=\"width: 100%; height: 100%; object-fit: cover; border-radius: 3px;\">\n",
       "            </div>\n",
       "            \n",
       "            <div style=\"flex: 0 0 auto; width: 150px; height: 100px;\">\n",
       "                <img src=\"5\" style=\"width: 100%; height: 100%; object-fit: cover; border-radius: 3px;\">\n",
       "            </div>\n",
       "            \n",
       "            <div style=\"flex: 0 0 auto; width: 150px; height: 100px;\">\n",
       "                <img src=\",\" style=\"width: 100%; height: 100%; object-fit: cover; border-radius: 3px;\">\n",
       "            </div>\n",
       "            \n",
       "            <div style=\"flex: 0 0 auto; width: 150px; height: 100px;\">\n",
       "                <img src=\"h\" style=\"width: 100%; height: 100%; object-fit: cover; border-radius: 3px;\">\n",
       "            </div>\n",
       "            \n",
       "            <div style=\"flex: 0 0 auto; width: 150px; height: 100px;\">\n",
       "                <img src=\"_\" style=\"width: 100%; height: 100%; object-fit: cover; border-radius: 3px;\">\n",
       "            </div>\n",
       "            \n",
       "            <div style=\"flex: 0 0 auto; width: 150px; height: 100px;\">\n",
       "                <img src=\"4\" style=\"width: 100%; height: 100%; object-fit: cover; border-radius: 3px;\">\n",
       "            </div>\n",
       "            \n",
       "            <div style=\"flex: 0 0 auto; width: 150px; height: 100px;\">\n",
       "                <img src=\"1\" style=\"width: 100%; height: 100%; object-fit: cover; border-radius: 3px;\">\n",
       "            </div>\n",
       "            \n",
       "            <div style=\"flex: 0 0 auto; width: 150px; height: 100px;\">\n",
       "                <img src=\"6\" style=\"width: 100%; height: 100%; object-fit: cover; border-radius: 3px;\">\n",
       "            </div>\n",
       "            \n",
       "            <div style=\"flex: 0 0 auto; width: 150px; height: 100px;\">\n",
       "                <img src=\",\" style=\"width: 100%; height: 100%; object-fit: cover; border-radius: 3px;\">\n",
       "            </div>\n",
       "            \n",
       "            <div style=\"flex: 0 0 auto; width: 150px; height: 100px;\">\n",
       "                <img src=\"c\" style=\"width: 100%; height: 100%; object-fit: cover; border-radius: 3px;\">\n",
       "            </div>\n",
       "            \n",
       "            <div style=\"flex: 0 0 auto; width: 150px; height: 100px;\">\n",
       "                <img src=\"_\" style=\"width: 100%; height: 100%; object-fit: cover; border-radius: 3px;\">\n",
       "            </div>\n",
       "            \n",
       "            <div style=\"flex: 0 0 auto; width: 150px; height: 100px;\">\n",
       "                <img src=\"f\" style=\"width: 100%; height: 100%; object-fit: cover; border-radius: 3px;\">\n",
       "            </div>\n",
       "            \n",
       "            <div style=\"flex: 0 0 auto; width: 150px; height: 100px;\">\n",
       "                <img src=\"i\" style=\"width: 100%; height: 100%; object-fit: cover; border-radius: 3px;\">\n",
       "            </div>\n",
       "            \n",
       "            <div style=\"flex: 0 0 auto; width: 150px; height: 100px;\">\n",
       "                <img src=\"t\" style=\"width: 100%; height: 100%; object-fit: cover; border-radius: 3px;\">\n",
       "            </div>\n",
       "            \n",
       "            <div style=\"flex: 0 0 auto; width: 150px; height: 100px;\">\n",
       "                <img src=\",\" style=\"width: 100%; height: 100%; object-fit: cover; border-radius: 3px;\">\n",
       "            </div>\n",
       "            \n",
       "            <div style=\"flex: 0 0 auto; width: 150px; height: 100px;\">\n",
       "                <img src=\"f\" style=\"width: 100%; height: 100%; object-fit: cover; border-radius: 3px;\">\n",
       "            </div>\n",
       "            \n",
       "            <div style=\"flex: 0 0 auto; width: 150px; height: 100px;\">\n",
       "                <img src=\"l\" style=\"width: 100%; height: 100%; object-fit: cover; border-radius: 3px;\">\n",
       "            </div>\n",
       "            \n",
       "            <div style=\"flex: 0 0 auto; width: 150px; height: 100px;\">\n",
       "                <img src=\"_\" style=\"width: 100%; height: 100%; object-fit: cover; border-radius: 3px;\">\n",
       "            </div>\n",
       "            \n",
       "            <div style=\"flex: 0 0 auto; width: 150px; height: 100px;\">\n",
       "                <img src=\"p\" style=\"width: 100%; height: 100%; object-fit: cover; border-radius: 3px;\">\n",
       "            </div>\n",
       "            \n",
       "            <div style=\"flex: 0 0 auto; width: 150px; height: 100px;\">\n",
       "                <img src=\"r\" style=\"width: 100%; height: 100%; object-fit: cover; border-radius: 3px;\">\n",
       "            </div>\n",
       "            \n",
       "            <div style=\"flex: 0 0 auto; width: 150px; height: 100px;\">\n",
       "                <img src=\"o\" style=\"width: 100%; height: 100%; object-fit: cover; border-radius: 3px;\">\n",
       "            </div>\n",
       "            \n",
       "            <div style=\"flex: 0 0 auto; width: 150px; height: 100px;\">\n",
       "                <img src=\"g\" style=\"width: 100%; height: 100%; object-fit: cover; border-radius: 3px;\">\n",
       "            </div>\n",
       "            \n",
       "            <div style=\"flex: 0 0 auto; width: 150px; height: 100px;\">\n",
       "                <img src=\"r\" style=\"width: 100%; height: 100%; object-fit: cover; border-radius: 3px;\">\n",
       "            </div>\n",
       "            \n",
       "            <div style=\"flex: 0 0 auto; width: 150px; height: 100px;\">\n",
       "                <img src=\"e\" style=\"width: 100%; height: 100%; object-fit: cover; border-radius: 3px;\">\n",
       "            </div>\n",
       "            \n",
       "            <div style=\"flex: 0 0 auto; width: 150px; height: 100px;\">\n",
       "                <img src=\"s\" style=\"width: 100%; height: 100%; object-fit: cover; border-radius: 3px;\">\n",
       "            </div>\n",
       "            \n",
       "            <div style=\"flex: 0 0 auto; width: 150px; height: 100px;\">\n",
       "                <img src=\"s\" style=\"width: 100%; height: 100%; object-fit: cover; border-radius: 3px;\">\n",
       "            </div>\n",
       "            \n",
       "            <div style=\"flex: 0 0 auto; width: 150px; height: 100px;\">\n",
       "                <img src=\"i\" style=\"width: 100%; height: 100%; object-fit: cover; border-radius: 3px;\">\n",
       "            </div>\n",
       "            \n",
       "            <div style=\"flex: 0 0 auto; width: 150px; height: 100px;\">\n",
       "                <img src=\"v\" style=\"width: 100%; height: 100%; object-fit: cover; border-radius: 3px;\">\n",
       "            </div>\n",
       "            \n",
       "            <div style=\"flex: 0 0 auto; width: 150px; height: 100px;\">\n",
       "                <img src=\"e\" style=\"width: 100%; height: 100%; object-fit: cover; border-radius: 3px;\">\n",
       "            </div>\n",
       "            \n",
       "            <div style=\"flex: 0 0 auto; width: 150px; height: 100px;\">\n",
       "                <img src=\",\" style=\"width: 100%; height: 100%; object-fit: cover; border-radius: 3px;\">\n",
       "            </div>\n",
       "            \n",
       "            <div style=\"flex: 0 0 auto; width: 150px; height: 100px;\">\n",
       "                <img src=\"q\" style=\"width: 100%; height: 100%; object-fit: cover; border-radius: 3px;\">\n",
       "            </div>\n",
       "            \n",
       "            <div style=\"flex: 0 0 auto; width: 150px; height: 100px;\">\n",
       "                <img src=\"_\" style=\"width: 100%; height: 100%; object-fit: cover; border-radius: 3px;\">\n",
       "            </div>\n",
       "            \n",
       "            <div style=\"flex: 0 0 auto; width: 150px; height: 100px;\">\n",
       "                <img src=\"9\" style=\"width: 100%; height: 100%; object-fit: cover; border-radius: 3px;\">\n",
       "            </div>\n",
       "            \n",
       "            <div style=\"flex: 0 0 auto; width: 150px; height: 100px;\">\n",
       "                <img src=\"5\" style=\"width: 100%; height: 100%; object-fit: cover; border-radius: 3px;\">\n",
       "            </div>\n",
       "            \n",
       "            <div style=\"flex: 0 0 auto; width: 150px; height: 100px;\">\n",
       "                <img src=\"/\" style=\"width: 100%; height: 100%; object-fit: cover; border-radius: 3px;\">\n",
       "            </div>\n",
       "            \n",
       "            <div style=\"flex: 0 0 auto; width: 150px; height: 100px;\">\n",
       "                <img src=\"v\" style=\"width: 100%; height: 100%; object-fit: cover; border-radius: 3px;\">\n",
       "            </div>\n",
       "            \n",
       "            <div style=\"flex: 0 0 auto; width: 150px; height: 100px;\">\n",
       "                <img src=\"1\" style=\"width: 100%; height: 100%; object-fit: cover; border-radius: 3px;\">\n",
       "            </div>\n",
       "            \n",
       "            <div style=\"flex: 0 0 auto; width: 150px; height: 100px;\">\n",
       "                <img src=\"/\" style=\"width: 100%; height: 100%; object-fit: cover; border-radius: 3px;\">\n",
       "            </div>\n",
       "            \n",
       "            <div style=\"flex: 0 0 auto; width: 150px; height: 100px;\">\n",
       "                <img src=\"i\" style=\"width: 100%; height: 100%; object-fit: cover; border-radius: 3px;\">\n",
       "            </div>\n",
       "            \n",
       "            <div style=\"flex: 0 0 auto; width: 150px; height: 100px;\">\n",
       "                <img src=\"m\" style=\"width: 100%; height: 100%; object-fit: cover; border-radius: 3px;\">\n",
       "            </div>\n",
       "            \n",
       "            <div style=\"flex: 0 0 auto; width: 150px; height: 100px;\">\n",
       "                <img src=\"g\" style=\"width: 100%; height: 100%; object-fit: cover; border-radius: 3px;\">\n",
       "            </div>\n",
       "            \n",
       "            <div style=\"flex: 0 0 auto; width: 150px; height: 100px;\">\n",
       "                <img src=\"/\" style=\"width: 100%; height: 100%; object-fit: cover; border-radius: 3px;\">\n",
       "            </div>\n",
       "            \n",
       "            <div style=\"flex: 0 0 auto; width: 150px; height: 100px;\">\n",
       "                <img src=\"r\" style=\"width: 100%; height: 100%; object-fit: cover; border-radius: 3px;\">\n",
       "            </div>\n",
       "            \n",
       "            <div style=\"flex: 0 0 auto; width: 150px; height: 100px;\">\n",
       "                <img src=\"e\" style=\"width: 100%; height: 100%; object-fit: cover; border-radius: 3px;\">\n",
       "            </div>\n",
       "            \n",
       "            <div style=\"flex: 0 0 auto; width: 150px; height: 100px;\">\n",
       "                <img src=\"c\" style=\"width: 100%; height: 100%; object-fit: cover; border-radius: 3px;\">\n",
       "            </div>\n",
       "            \n",
       "            <div style=\"flex: 0 0 auto; width: 150px; height: 100px;\">\n",
       "                <img src=\"i\" style=\"width: 100%; height: 100%; object-fit: cover; border-radius: 3px;\">\n",
       "            </div>\n",
       "            \n",
       "            <div style=\"flex: 0 0 auto; width: 150px; height: 100px;\">\n",
       "                <img src=\"p\" style=\"width: 100%; height: 100%; object-fit: cover; border-radius: 3px;\">\n",
       "            </div>\n",
       "            \n",
       "            <div style=\"flex: 0 0 auto; width: 150px; height: 100px;\">\n",
       "                <img src=\"e\" style=\"width: 100%; height: 100%; object-fit: cover; border-radius: 3px;\">\n",
       "            </div>\n",
       "            \n",
       "            <div style=\"flex: 0 0 auto; width: 150px; height: 100px;\">\n",
       "                <img src=\"s\" style=\"width: 100%; height: 100%; object-fit: cover; border-radius: 3px;\">\n",
       "            </div>\n",
       "            \n",
       "            <div style=\"flex: 0 0 auto; width: 150px; height: 100px;\">\n",
       "                <img src=\"/\" style=\"width: 100%; height: 100%; object-fit: cover; border-radius: 3px;\">\n",
       "            </div>\n",
       "            \n",
       "            <div style=\"flex: 0 0 auto; width: 150px; height: 100px;\">\n",
       "                <img src=\"2\" style=\"width: 100%; height: 100%; object-fit: cover; border-radius: 3px;\">\n",
       "            </div>\n",
       "            \n",
       "            <div style=\"flex: 0 0 auto; width: 150px; height: 100px;\">\n",
       "                <img src=\"9\" style=\"width: 100%; height: 100%; object-fit: cover; border-radius: 3px;\">\n",
       "            </div>\n",
       "            \n",
       "            <div style=\"flex: 0 0 auto; width: 150px; height: 100px;\">\n",
       "                <img src=\"/\" style=\"width: 100%; height: 100%; object-fit: cover; border-radius: 3px;\">\n",
       "            </div>\n",
       "            \n",
       "            <div style=\"flex: 0 0 auto; width: 150px; height: 100px;\">\n",
       "                <img src=\"2\" style=\"width: 100%; height: 100%; object-fit: cover; border-radius: 3px;\">\n",
       "            </div>\n",
       "            \n",
       "            <div style=\"flex: 0 0 auto; width: 150px; height: 100px;\">\n",
       "                <img src=\"7\" style=\"width: 100%; height: 100%; object-fit: cover; border-radius: 3px;\">\n",
       "            </div>\n",
       "            \n",
       "            <div style=\"flex: 0 0 auto; width: 150px; height: 100px;\">\n",
       "                <img src=\"/\" style=\"width: 100%; height: 100%; object-fit: cover; border-radius: 3px;\">\n",
       "            </div>\n",
       "            \n",
       "            <div style=\"flex: 0 0 auto; width: 150px; height: 100px;\">\n",
       "                <img src=\"3\" style=\"width: 100%; height: 100%; object-fit: cover; border-radius: 3px;\">\n",
       "            </div>\n",
       "            \n",
       "            <div style=\"flex: 0 0 auto; width: 150px; height: 100px;\">\n",
       "                <img src=\"9\" style=\"width: 100%; height: 100%; object-fit: cover; border-radius: 3px;\">\n",
       "            </div>\n",
       "            \n",
       "            <div style=\"flex: 0 0 auto; width: 150px; height: 100px;\">\n",
       "                <img src=\"/\" style=\"width: 100%; height: 100%; object-fit: cover; border-radius: 3px;\">\n",
       "            </div>\n",
       "            \n",
       "            <div style=\"flex: 0 0 auto; width: 150px; height: 100px;\">\n",
       "                <img src=\"p\" style=\"width: 100%; height: 100%; object-fit: cover; border-radius: 3px;\">\n",
       "            </div>\n",
       "            \n",
       "            <div style=\"flex: 0 0 auto; width: 150px; height: 100px;\">\n",
       "                <img src=\"i\" style=\"width: 100%; height: 100%; object-fit: cover; border-radius: 3px;\">\n",
       "            </div>\n",
       "            \n",
       "            <div style=\"flex: 0 0 auto; width: 150px; height: 100px;\">\n",
       "                <img src=\"c\" style=\"width: 100%; height: 100%; object-fit: cover; border-radius: 3px;\">\n",
       "            </div>\n",
       "            \n",
       "            <div style=\"flex: 0 0 auto; width: 150px; height: 100px;\">\n",
       "                <img src=\"A\" style=\"width: 100%; height: 100%; object-fit: cover; border-radius: 3px;\">\n",
       "            </div>\n",
       "            \n",
       "            <div style=\"flex: 0 0 auto; width: 150px; height: 100px;\">\n",
       "                <img src=\"p\" style=\"width: 100%; height: 100%; object-fit: cover; border-radius: 3px;\">\n",
       "            </div>\n",
       "            \n",
       "            <div style=\"flex: 0 0 auto; width: 150px; height: 100px;\">\n",
       "                <img src=\"h\" style=\"width: 100%; height: 100%; object-fit: cover; border-radius: 3px;\">\n",
       "            </div>\n",
       "            \n",
       "            <div style=\"flex: 0 0 auto; width: 150px; height: 100px;\">\n",
       "                <img src=\"O\" style=\"width: 100%; height: 100%; object-fit: cover; border-radius: 3px;\">\n",
       "            </div>\n",
       "            \n",
       "            <div style=\"flex: 0 0 auto; width: 150px; height: 100px;\">\n",
       "                <img src=\"r\" style=\"width: 100%; height: 100%; object-fit: cover; border-radius: 3px;\">\n",
       "            </div>\n",
       "            \n",
       "            <div style=\"flex: 0 0 auto; width: 150px; height: 100px;\">\n",
       "                <img src=\"L\" style=\"width: 100%; height: 100%; object-fit: cover; border-radius: 3px;\">\n",
       "            </div>\n",
       "            \n",
       "            <div style=\"flex: 0 0 auto; width: 150px; height: 100px;\">\n",
       "                <img src=\".\" style=\"width: 100%; height: 100%; object-fit: cover; border-radius: 3px;\">\n",
       "            </div>\n",
       "            \n",
       "            <div style=\"flex: 0 0 auto; width: 150px; height: 100px;\">\n",
       "                <img src=\"j\" style=\"width: 100%; height: 100%; object-fit: cover; border-radius: 3px;\">\n",
       "            </div>\n",
       "            \n",
       "            <div style=\"flex: 0 0 auto; width: 150px; height: 100px;\">\n",
       "                <img src=\"p\" style=\"width: 100%; height: 100%; object-fit: cover; border-radius: 3px;\">\n",
       "            </div>\n",
       "            \n",
       "            <div style=\"flex: 0 0 auto; width: 150px; height: 100px;\">\n",
       "                <img src=\"g\" style=\"width: 100%; height: 100%; object-fit: cover; border-radius: 3px;\">\n",
       "            </div>\n",
       "            \n",
       "            </div>\n",
       "        </div>\n",
       "        "
      ],
      "text/plain": [
       "<IPython.core.display.HTML object>"
      ]
     },
     "metadata": {},
     "output_type": "display_data"
    },
    {
     "data": {
      "text/html": [
       "<div style='display: flex; flex-wrap: wrap; gap: 10px; margin: 10px 0;'><div style='padding: 5px 10px; background-color: #f0f8ff; border-radius: 4px;'><b>Time:</b> 2m</div><div style='padding: 5px 10px; background-color: #f0f8ff; border-radius: 4px;'><b>Calories:</b> 304.1 kcal</div><div style='padding: 5px 10px; background-color: #f0f8ff; border-radius: 4px;'><b>Servings:</b> 1.0</div><div style='padding: 5px 10px; background-color: #f0fff0; border-radius: 4px;'><b>Carbs:</b> 66.6%</div><div style='padding: 5px 10px; background-color: #f0fff0; border-radius: 4px;'><b>Protein:</b> 27.5%</div><div style='padding: 5px 10px; background-color: #f0fff0; border-radius: 4px;'><b>Fat:</b> 6.0%</div></div>"
      ],
      "text/plain": [
       "<IPython.core.display.HTML object>"
      ]
     },
     "metadata": {},
     "output_type": "display_data"
    },
    {
     "data": {
      "text/html": [
       "\n",
       "    <div style='font-family: Arial; margin: 10px 0;'>\n",
       "        <h4 style='margin-top: 0; margin-bottom: 5px;'>Ingredients</h4>\n",
       "        <ul style='margin: 0 0 10px 0; padding-left: 20px;'>\n",
       "    <li><b>spiced rum:</b> 2</li><li><b>skim milk:</b> 1</li><li><b>vanilla:</b> 1</li>\n",
       "        </ul>\n",
       "        <h4 style='margin-top: 10px; margin-bottom: 5px;'>Instructions</h4>\n",
       "        <p style='margin: 0;'>Add all ingredients except cola to a water bottle, drink mixer, or some other container with a lid.\n",
       "Shake the hell out of it.\n",
       "Pour into a glass and top off with cola. I use Diet Coke, and probably 1/2 cup of it, but for a sweeter drink, use more cola.\n",
       "Drink.\n",
       "Repeat several times.</p>\n",
       "    </div>\n",
       "    "
      ],
      "text/plain": [
       "<IPython.core.display.HTML object>"
      ]
     },
     "metadata": {},
     "output_type": "display_data"
    },
    {
     "data": {
      "text/html": [
       "<div style='margin: 5px 0;'><span style='background-color: #eaeaea; padding: 2px 8px; border-radius: 10px; font-size: 0.8em; margin-right: 5px;'>Dessert</span><span style='background-color: #eaeaea; padding: 2px 8px; border-radius: 10px; font-size: 0.8em; margin-right: 5px;'>Low Cholesterol</span><span style='background-color: #eaeaea; padding: 2px 8px; border-radius: 10px; font-size: 0.8em; margin-right: 5px;'>Healthy</span><span style='background-color: #eaeaea; padding: 2px 8px; border-radius: 10px; font-size: 0.8em; margin-right: 5px;'>< 15 Mins</span><span style='background-color: #eaeaea; padding: 2px 8px; border-radius: 10px; font-size: 0.8em; margin-right: 5px;'>Easy</span></div>"
      ],
      "text/plain": [
       "<IPython.core.display.HTML object>"
      ]
     },
     "metadata": {},
     "output_type": "display_data"
    },
    {
     "data": {
      "text/html": [
       "<hr style='margin: 20px 0; border: 0; border-top: 1px dashed #ccc;'>"
      ],
      "text/plain": [
       "<IPython.core.display.HTML object>"
      ]
     },
     "metadata": {},
     "output_type": "display_data"
    },
    {
     "data": {
      "text/html": [
       "\n",
       "    <div style=\"font-family: Arial; padding: 10px; border-radius: 5px; border: 1px solid #ddd; margin-bottom: 10px;\">\n",
       "        <div style=\"display: flex; justify-content: space-between; align-items: center;\">\n",
       "            <h2 style=\"color: #333; margin: 0 0 5px 0;\">Greek Yogurt With Honey, Fruit and Granola</h2>\n",
       "            <span style='color: #888; font-size: 0.9em;'>Rank 3/3</span>\n",
       "        </div>\n",
       "        <div style=\"display: flex; justify-content: space-between; align-items: center;\">\n",
       "            <span style=\"color: #666; font-size: 0.9em;\">By CaliforniaJan | Breakfast</span>\n",
       "            <span style=\"font-size: 1em; color: #f6ab00;\">★★★★★ (14)</span>\n",
       "        </div>\n",
       "    </div>\n",
       "    "
      ],
      "text/plain": [
       "<IPython.core.display.HTML object>"
      ]
     },
     "metadata": {},
     "output_type": "display_data"
    },
    {
     "data": {
      "text/html": [
       "\n",
       "        <div style=\"margin: 10px 0; max-width: 100%; overflow-x: auto;\">\n",
       "            <div style=\"display: flex; gap: 5px;\">\n",
       "        \n",
       "            <div style=\"flex: 0 0 auto; width: 150px; height: 100px;\">\n",
       "                <img src=\"https://img.sndimg.com/food/image/upload/w_555,h_416,c_fit,fl_progressive,q_95/v1/img/recipes/42/75/50/pichDJg4B.jpg\" style=\"width: 100%; height: 100%; object-fit: cover; border-radius: 3px;\">\n",
       "            </div>\n",
       "            \n",
       "            <div style=\"flex: 0 0 auto; width: 150px; height: 100px;\">\n",
       "                <img src=\"https://img.sndimg.com/food/image/upload/w_555,h_416,c_fit,fl_progressive,q_95/v1/img/recipes/42/75/50/HzfpDU6pRHGDpIvTOsfm_My%20Yiaourti%20me%20Meli%20-%20013.JPG\" style=\"width: 100%; height: 100%; object-fit: cover; border-radius: 3px;\">\n",
       "            </div>\n",
       "            \n",
       "            <div style=\"flex: 0 0 auto; width: 150px; height: 100px;\">\n",
       "                <img src=\"https://img.sndimg.com/food/image/upload/w_555,h_416,c_fit,fl_progressive,q_95/v1/img/recipes/42/75/50/MmBf5BjXTJyMdMqe1vRX_Mangoes%20and%20Blueberries%20in%20Yorgurt%20Cream%20_2153.jpg\" style=\"width: 100%; height: 100%; object-fit: cover; border-radius: 3px;\">\n",
       "            </div>\n",
       "            \n",
       "            <div style=\"flex: 0 0 auto; width: 150px; height: 100px;\">\n",
       "                <img src=\"https://img.sndimg.com/food/image/upload/w_555,h_416,c_fit,fl_progressive,q_95/v1/img/recipes/42/75/50/picrmbWud.jpg\" style=\"width: 100%; height: 100%; object-fit: cover; border-radius: 3px;\">\n",
       "            </div>\n",
       "            \n",
       "            <div style=\"flex: 0 0 auto; width: 150px; height: 100px;\">\n",
       "                <img src=\"https://img.sndimg.com/food/image/upload/w_555,h_416,c_fit,fl_progressive,q_95/v1/img/recipes/42/75/50/picyE4hDx.jpg\" style=\"width: 100%; height: 100%; object-fit: cover; border-radius: 3px;\">\n",
       "            </div>\n",
       "            \n",
       "            <div style=\"flex: 0 0 auto; width: 150px; height: 100px;\">\n",
       "                <img src=\"https://img.sndimg.com/food/image/upload/w_555,h_416,c_fit,fl_progressive,q_95/v1/img/recipes/42/75/50/picRqFlv8.jpg\" style=\"width: 100%; height: 100%; object-fit: cover; border-radius: 3px;\">\n",
       "            </div>\n",
       "            \n",
       "            </div>\n",
       "        </div>\n",
       "        "
      ],
      "text/plain": [
       "<IPython.core.display.HTML object>"
      ]
     },
     "metadata": {},
     "output_type": "display_data"
    },
    {
     "data": {
      "text/html": [
       "<div style='display: flex; flex-wrap: wrap; gap: 10px; margin: 10px 0;'><div style='padding: 5px 10px; background-color: #f0f8ff; border-radius: 4px;'><b>Time:</b> 5m</div><div style='padding: 5px 10px; background-color: #f0f8ff; border-radius: 4px;'><b>Calories:</b> 262.5 kcal</div><div style='padding: 5px 10px; background-color: #f0f8ff; border-radius: 4px;'><b>Servings:</b> 1.0</div><div style='padding: 5px 10px; background-color: #f0fff0; border-radius: 4px;'><b>Carbs:</b> 71.0%</div><div style='padding: 5px 10px; background-color: #f0fff0; border-radius: 4px;'><b>Protein:</b> 11.1%</div><div style='padding: 5px 10px; background-color: #f0fff0; border-radius: 4px;'><b>Fat:</b> 17.9%</div></div>"
      ],
      "text/plain": [
       "<IPython.core.display.HTML object>"
      ]
     },
     "metadata": {},
     "output_type": "display_data"
    },
    {
     "data": {
      "text/html": [
       "\n",
       "    <div style='font-family: Arial; margin: 10px 0;'>\n",
       "        <h4 style='margin-top: 0; margin-bottom: 5px;'>Ingredients</h4>\n",
       "        <ul style='margin: 0 0 10px 0; padding-left: 20px;'>\n",
       "    <li><b>honey:</b> 1</li><li><b>granola cereal:</b> 1 -2</li><li><b>berries:</b> 1/3</li>\n",
       "        </ul>\n",
       "        <h4 style='margin-top: 10px; margin-bottom: 5px;'>Instructions</h4>\n",
       "        <p style='margin: 0;'>T\n",
       "o\n",
       "p\n",
       " \n",
       "y\n",
       "o\n",
       "g\n",
       "u\n",
       "r\n",
       "t\n",
       " \n",
       "w\n",
       "i\n",
       "t\n",
       "h\n",
       " \n",
       "h\n",
       "o\n",
       "n\n",
       "e\n",
       "y\n",
       " \n",
       "a\n",
       "n\n",
       "d\n",
       " \n",
       "g\n",
       "r\n",
       "a\n",
       "n\n",
       "o\n",
       "l\n",
       "a\n",
       ",\n",
       " \n",
       "s\n",
       "p\n",
       "r\n",
       "i\n",
       "n\n",
       "k\n",
       "l\n",
       "e\n",
       " \n",
       "b\n",
       "e\n",
       "r\n",
       "r\n",
       "i\n",
       "e\n",
       "s\n",
       " \n",
       "o\n",
       "n\n",
       " \n",
       "t\n",
       "o\n",
       "p\n",
       ".</p>\n",
       "    </div>\n",
       "    "
      ],
      "text/plain": [
       "<IPython.core.display.HTML object>"
      ]
     },
     "metadata": {},
     "output_type": "display_data"
    },
    {
     "data": {
      "text/html": [
       "<div style='margin: 5px 0;'><span style='background-color: #eaeaea; padding: 2px 8px; border-radius: 10px; font-size: 0.8em; margin-right: 5px;'>< 15 Mins</span><span style='background-color: #eaeaea; padding: 2px 8px; border-radius: 10px; font-size: 0.8em; margin-right: 5px;'>Easy</span></div>"
      ],
      "text/plain": [
       "<IPython.core.display.HTML object>"
      ]
     },
     "metadata": {},
     "output_type": "display_data"
    },
    {
     "data": {
      "text/html": [
       "<hr style='margin: 20px 0; border: 0; border-top: 1px dashed #ccc;'>"
      ],
      "text/plain": [
       "<IPython.core.display.HTML object>"
      ]
     },
     "metadata": {},
     "output_type": "display_data"
    }
   ],
   "source": [
    "records = run(\"\"\"\n",
    "I'm maya 28 years old, weight 65kg, and I'm 170cm tall.\n",
    "I'm male and I work out 6 times a week.\n",
    "I want a light snack with chocolate.\n",
    "I have strawberries and yogurt and bannanas in my fridge.\n",
    "\"\"\")\n",
    "display_recipes_ranked(records)"
   ]
  },
  {
   "cell_type": "code",
   "execution_count": 6,
   "metadata": {},
   "outputs": [
    {
     "name": "stdout",
     "output_type": "stream",
     "text": [
      "Found embeddings for 7 RecipeIds: ['137118', '203040', '219375', '113195', '247849', '359929', '147']\n",
      "Top 3 Recipe IDs: [203040, 247849, 359929]\n"
     ]
    },
    {
     "data": {
      "text/html": [
       "\n",
       "    <div style=\"font-family: Arial; padding: 10px; border-radius: 5px; border: 1px solid #ddd; margin-bottom: 10px;\">\n",
       "        <div style=\"display: flex; justify-content: space-between; align-items: center;\">\n",
       "            <h2 style=\"color: #333; margin: 0 0 5px 0;\">Healthy Spring Mix</h2>\n",
       "            <span style='color: #888; font-size: 0.9em;'>Rank 1/3</span>\n",
       "        </div>\n",
       "        <div style=\"display: flex; justify-content: space-between; align-items: center;\">\n",
       "            <span style=\"color: #666; font-size: 0.9em;\">By CookingONTheSide | Spring</span>\n",
       "            <span style=\"font-size: 1em; color: #f6ab00;\">★★★★★ (6)</span>\n",
       "        </div>\n",
       "    </div>\n",
       "    "
      ],
      "text/plain": [
       "<IPython.core.display.HTML object>"
      ]
     },
     "metadata": {},
     "output_type": "display_data"
    },
    {
     "data": {
      "text/html": [
       "\n",
       "        <div style=\"margin: 10px 0; max-width: 100%; overflow-x: auto;\">\n",
       "            <div style=\"display: flex; gap: 5px;\">\n",
       "        \n",
       "            <div style=\"flex: 0 0 auto; width: 150px; height: 100px;\">\n",
       "                <img src=\"https://img.sndimg.com/food/image/upload/w_555,h_416,c_fit,fl_progressive,q_95/v1/img/recipes/20/30/40/picwu5ASB.jpg\" style=\"width: 100%; height: 100%; object-fit: cover; border-radius: 3px;\">\n",
       "            </div>\n",
       "            \n",
       "            <div style=\"flex: 0 0 auto; width: 150px; height: 100px;\">\n",
       "                <img src=\"https://img.sndimg.com/food/image/upload/w_555,h_416,c_fit,fl_progressive,q_95/v1/img/recipes/20/30/40/picyYqqQi.jpg\" style=\"width: 100%; height: 100%; object-fit: cover; border-radius: 3px;\">\n",
       "            </div>\n",
       "            \n",
       "            <div style=\"flex: 0 0 auto; width: 150px; height: 100px;\">\n",
       "                <img src=\"https://img.sndimg.com/food/image/upload/w_555,h_416,c_fit,fl_progressive,q_95/v1/img/recipes/20/30/40/picpjszhI.jpg\" style=\"width: 100%; height: 100%; object-fit: cover; border-radius: 3px;\">\n",
       "            </div>\n",
       "            \n",
       "            <div style=\"flex: 0 0 auto; width: 150px; height: 100px;\">\n",
       "                <img src=\"https://img.sndimg.com/food/image/upload/w_555,h_416,c_fit,fl_progressive,q_95/v1/img/recipes/20/30/40/piczqyVPR.jpg\" style=\"width: 100%; height: 100%; object-fit: cover; border-radius: 3px;\">\n",
       "            </div>\n",
       "            \n",
       "            <div style=\"flex: 0 0 auto; width: 150px; height: 100px;\">\n",
       "                <img src=\"https://img.sndimg.com/food/image/upload/w_555,h_416,c_fit,fl_progressive,q_95/v1/img/recipes/20/30/40/picV9sCbx.jpg\" style=\"width: 100%; height: 100%; object-fit: cover; border-radius: 3px;\">\n",
       "            </div>\n",
       "            \n",
       "            </div>\n",
       "        </div>\n",
       "        "
      ],
      "text/plain": [
       "<IPython.core.display.HTML object>"
      ]
     },
     "metadata": {},
     "output_type": "display_data"
    },
    {
     "data": {
      "text/html": [
       "<div style='display: flex; flex-wrap: wrap; gap: 10px; margin: 10px 0;'><div style='padding: 5px 10px; background-color: #f0f8ff; border-radius: 4px;'><b>Time:</b> 10m</div><div style='padding: 5px 10px; background-color: #f0f8ff; border-radius: 4px;'><b>Calories:</b> 347.6 kcal</div><div style='padding: 5px 10px; background-color: #f0f8ff; border-radius: 4px;'><b>Servings:</b> 1.0</div><div style='padding: 5px 10px; background-color: #f0fff0; border-radius: 4px;'><b>Carbs:</b> 17.3%</div><div style='padding: 5px 10px; background-color: #f0fff0; border-radius: 4px;'><b>Protein:</b> 16.7%</div><div style='padding: 5px 10px; background-color: #f0fff0; border-radius: 4px;'><b>Fat:</b> 65.9%</div></div>"
      ],
      "text/plain": [
       "<IPython.core.display.HTML object>"
      ]
     },
     "metadata": {},
     "output_type": "display_data"
    },
    {
     "data": {
      "text/html": [
       "\n",
       "    <div style='font-family: Arial; margin: 10px 0;'>\n",
       "        <h4 style='margin-top: 0; margin-bottom: 5px;'>Ingredients</h4>\n",
       "        <ul style='margin: 0 0 10px 0; padding-left: 20px;'>\n",
       "    <li><b>olive oil:</b> 2 -3</li><li><b>walnuts:</b> 2</li><li><b>dried cranberries:</b> 1</li><li><b>blue cheese:</b> 1/4</li>\n",
       "        </ul>\n",
       "        <h4 style='margin-top: 10px; margin-bottom: 5px;'>Instructions</h4>\n",
       "        <p style='margin: 0;'>Top baby greens with remaining ingredients.\n",
       "Add whatever other vegetables you have in your refrigerator.\n",
       "Add your favorite dressing.</p>\n",
       "    </div>\n",
       "    "
      ],
      "text/plain": [
       "<IPython.core.display.HTML object>"
      ]
     },
     "metadata": {},
     "output_type": "display_data"
    },
    {
     "data": {
      "text/html": [
       "<div style='margin: 5px 0;'><span style='background-color: #eaeaea; padding: 2px 8px; border-radius: 10px; font-size: 0.8em; margin-right: 5px;'>< 15 Mins</span><span style='background-color: #eaeaea; padding: 2px 8px; border-radius: 10px; font-size: 0.8em; margin-right: 5px;'>Easy</span></div>"
      ],
      "text/plain": [
       "<IPython.core.display.HTML object>"
      ]
     },
     "metadata": {},
     "output_type": "display_data"
    },
    {
     "data": {
      "text/html": [
       "<hr style='margin: 20px 0; border: 0; border-top: 1px dashed #ccc;'>"
      ],
      "text/plain": [
       "<IPython.core.display.HTML object>"
      ]
     },
     "metadata": {},
     "output_type": "display_data"
    },
    {
     "data": {
      "text/html": [
       "\n",
       "    <div style=\"font-family: Arial; padding: 10px; border-radius: 5px; border: 1px solid #ddd; margin-bottom: 10px;\">\n",
       "        <div style=\"display: flex; justify-content: space-between; align-items: center;\">\n",
       "            <h2 style=\"color: #333; margin: 0 0 5px 0;\">Chocolate Peanut Butter Protein Oatmeal</h2>\n",
       "            <span style='color: #888; font-size: 0.9em;'>Rank 2/3</span>\n",
       "        </div>\n",
       "        <div style=\"display: flex; justify-content: space-between; align-items: center;\">\n",
       "            <span style=\"color: #666; font-size: 0.9em;\">By Darrinw2001 | Breakfast</span>\n",
       "            <span style=\"font-size: 1em; color: #f6ab00;\">★★★★ (2)</span>\n",
       "        </div>\n",
       "    </div>\n",
       "    "
      ],
      "text/plain": [
       "<IPython.core.display.HTML object>"
      ]
     },
     "metadata": {},
     "output_type": "display_data"
    },
    {
     "data": {
      "text/html": [
       "<div style='display: flex; flex-wrap: wrap; gap: 10px; margin: 10px 0;'><div style='padding: 5px 10px; background-color: #f0f8ff; border-radius: 4px;'><b>Time:</b> 7m</div><div style='padding: 5px 10px; background-color: #f0f8ff; border-radius: 4px;'><b>Calories:</b> 343.7 kcal</div><div style='padding: 5px 10px; background-color: #f0f8ff; border-radius: 4px;'><b>Servings:</b> 1.0</div><div style='padding: 5px 10px; background-color: #f0fff0; border-radius: 4px;'><b>Carbs:</b> 50.2%</div><div style='padding: 5px 10px; background-color: #f0fff0; border-radius: 4px;'><b>Protein:</b> 21.8%</div><div style='padding: 5px 10px; background-color: #f0fff0; border-radius: 4px;'><b>Fat:</b> 28.1%</div></div>"
      ],
      "text/plain": [
       "<IPython.core.display.HTML object>"
      ]
     },
     "metadata": {},
     "output_type": "display_data"
    },
    {
     "data": {
      "text/html": [
       "\n",
       "    <div style='font-family: Arial; margin: 10px 0;'>\n",
       "        <h4 style='margin-top: 0; margin-bottom: 5px;'>Ingredients</h4>\n",
       "        <ul style='margin: 0 0 10px 0; padding-left: 20px;'>\n",
       "    <li><b>rolled oats:</b> 1/2</li><li><b>water:</b> 1</li><li><b>peanut butter:</b> 2</li>\n",
       "        </ul>\n",
       "        <h4 style='margin-top: 10px; margin-bottom: 5px;'>Instructions</h4>\n",
       "        <p style='margin: 0;'>add oats to water and cook as normal on stove or microwave.\n",
       "when oats are done, add peanut butter and protein powder and mix well.\n",
       "enjoy!</p>\n",
       "    </div>\n",
       "    "
      ],
      "text/plain": [
       "<IPython.core.display.HTML object>"
      ]
     },
     "metadata": {},
     "output_type": "display_data"
    },
    {
     "data": {
      "text/html": [
       "<div style='margin: 5px 0;'><span style='background-color: #eaeaea; padding: 2px 8px; border-radius: 10px; font-size: 0.8em; margin-right: 5px;'>< 15 Mins</span><span style='background-color: #eaeaea; padding: 2px 8px; border-radius: 10px; font-size: 0.8em; margin-right: 5px;'>Easy</span></div>"
      ],
      "text/plain": [
       "<IPython.core.display.HTML object>"
      ]
     },
     "metadata": {},
     "output_type": "display_data"
    },
    {
     "data": {
      "text/html": [
       "<hr style='margin: 20px 0; border: 0; border-top: 1px dashed #ccc;'>"
      ],
      "text/plain": [
       "<IPython.core.display.HTML object>"
      ]
     },
     "metadata": {},
     "output_type": "display_data"
    },
    {
     "data": {
      "text/html": [
       "\n",
       "    <div style=\"font-family: Arial; padding: 10px; border-radius: 5px; border: 1px solid #ddd; margin-bottom: 10px;\">\n",
       "        <div style=\"display: flex; justify-content: space-between; align-items: center;\">\n",
       "            <h2 style=\"color: #333; margin: 0 0 5px 0;\">Spring Mix With Walnuts, Cranberries and Goat Cheese</h2>\n",
       "            <span style='color: #888; font-size: 0.9em;'>Rank 3/3</span>\n",
       "        </div>\n",
       "        <div style=\"display: flex; justify-content: space-between; align-items: center;\">\n",
       "            <span style=\"color: #666; font-size: 0.9em;\">By alligirl | < 15 Mins</span>\n",
       "            <span style=\"font-size: 1em; color: #f6ab00;\">★★★★★ (25)</span>\n",
       "        </div>\n",
       "    </div>\n",
       "    "
      ],
      "text/plain": [
       "<IPython.core.display.HTML object>"
      ]
     },
     "metadata": {},
     "output_type": "display_data"
    },
    {
     "data": {
      "text/html": [
       "\n",
       "        <div style=\"margin: 10px 0; max-width: 100%; overflow-x: auto;\">\n",
       "            <div style=\"display: flex; gap: 5px;\">\n",
       "        \n",
       "            <div style=\"flex: 0 0 auto; width: 150px; height: 100px;\">\n",
       "                <img src=\"https://img.sndimg.com/food/image/upload/w_555,h_416,c_fit,fl_progressive,q_95/v1/img/recipes/35/99/29/pic0GzSzN.jpg\" style=\"width: 100%; height: 100%; object-fit: cover; border-radius: 3px;\">\n",
       "            </div>\n",
       "            \n",
       "            <div style=\"flex: 0 0 auto; width: 150px; height: 100px;\">\n",
       "                <img src=\"https://img.sndimg.com/food/image/upload/w_555,h_416,c_fit,fl_progressive,q_95/v1/img/recipes/35/99/29/picL010UT.jpg\" style=\"width: 100%; height: 100%; object-fit: cover; border-radius: 3px;\">\n",
       "            </div>\n",
       "            \n",
       "            <div style=\"flex: 0 0 auto; width: 150px; height: 100px;\">\n",
       "                <img src=\"https://img.sndimg.com/food/image/upload/w_555,h_416,c_fit,fl_progressive,q_95/v1/img/recipes/35/99/29/picWPc5Pq.jpg\" style=\"width: 100%; height: 100%; object-fit: cover; border-radius: 3px;\">\n",
       "            </div>\n",
       "            \n",
       "            <div style=\"flex: 0 0 auto; width: 150px; height: 100px;\">\n",
       "                <img src=\"https://img.sndimg.com/food/image/upload/w_555,h_416,c_fit,fl_progressive,q_95/v1/img/recipes/35/99/29/picFJRztz.jpg\" style=\"width: 100%; height: 100%; object-fit: cover; border-radius: 3px;\">\n",
       "            </div>\n",
       "            \n",
       "            <div style=\"flex: 0 0 auto; width: 150px; height: 100px;\">\n",
       "                <img src=\"https://img.sndimg.com/food/image/upload/w_555,h_416,c_fit,fl_progressive,q_95/v1/img/recipes/35/99/29/picCOhSdi.jpg\" style=\"width: 100%; height: 100%; object-fit: cover; border-radius: 3px;\">\n",
       "            </div>\n",
       "            \n",
       "            <div style=\"flex: 0 0 auto; width: 150px; height: 100px;\">\n",
       "                <img src=\"https://img.sndimg.com/food/image/upload/w_555,h_416,c_fit,fl_progressive,q_95/v1/img/recipes/35/99/29/picGeDZea.jpg\" style=\"width: 100%; height: 100%; object-fit: cover; border-radius: 3px;\">\n",
       "            </div>\n",
       "            \n",
       "            <div style=\"flex: 0 0 auto; width: 150px; height: 100px;\">\n",
       "                <img src=\"https://img.sndimg.com/food/image/upload/w_555,h_416,c_fit,fl_progressive,q_95/v1/img/recipes/35/99/29/picRQDtYU.jpg\" style=\"width: 100%; height: 100%; object-fit: cover; border-radius: 3px;\">\n",
       "            </div>\n",
       "            \n",
       "            <div style=\"flex: 0 0 auto; width: 150px; height: 100px;\">\n",
       "                <img src=\"https://img.sndimg.com/food/image/upload/w_555,h_416,c_fit,fl_progressive,q_95/v1/img/recipes/35/99/29/picTlGyYh.jpg\" style=\"width: 100%; height: 100%; object-fit: cover; border-radius: 3px;\">\n",
       "            </div>\n",
       "            \n",
       "            <div style=\"flex: 0 0 auto; width: 150px; height: 100px;\">\n",
       "                <img src=\"https://img.sndimg.com/food/image/upload/w_555,h_416,c_fit,fl_progressive,q_95/v1/img/recipes/35/99/29/picj1sG8i.jpg\" style=\"width: 100%; height: 100%; object-fit: cover; border-radius: 3px;\">\n",
       "            </div>\n",
       "            \n",
       "            <div style=\"flex: 0 0 auto; width: 150px; height: 100px;\">\n",
       "                <img src=\"https://img.sndimg.com/food/image/upload/w_555,h_416,c_fit,fl_progressive,q_95/v1/img/recipes/35/99/29/picENqSK6.jpg\" style=\"width: 100%; height: 100%; object-fit: cover; border-radius: 3px;\">\n",
       "            </div>\n",
       "            \n",
       "            <div style=\"flex: 0 0 auto; width: 150px; height: 100px;\">\n",
       "                <img src=\"https://img.sndimg.com/food/image/upload/w_555,h_416,c_fit,fl_progressive,q_95/v1/img/recipes/35/99/29/picAq8HYN.jpg\" style=\"width: 100%; height: 100%; object-fit: cover; border-radius: 3px;\">\n",
       "            </div>\n",
       "            \n",
       "            <div style=\"flex: 0 0 auto; width: 150px; height: 100px;\">\n",
       "                <img src=\"https://img.sndimg.com/food/image/upload/w_555,h_416,c_fit,fl_progressive,q_95/v1/img/recipes/35/99/29/picKBTY3g.jpg\" style=\"width: 100%; height: 100%; object-fit: cover; border-radius: 3px;\">\n",
       "            </div>\n",
       "            \n",
       "            <div style=\"flex: 0 0 auto; width: 150px; height: 100px;\">\n",
       "                <img src=\"https://img.sndimg.com/food/image/upload/w_555,h_416,c_fit,fl_progressive,q_95/v1/img/recipes/35/99/29/picwbGGeR.jpg\" style=\"width: 100%; height: 100%; object-fit: cover; border-radius: 3px;\">\n",
       "            </div>\n",
       "            \n",
       "            <div style=\"flex: 0 0 auto; width: 150px; height: 100px;\">\n",
       "                <img src=\"https://img.sndimg.com/food/image/upload/w_555,h_416,c_fit,fl_progressive,q_95/v1/img/recipes/35/99/29/pic8Ypwyq.jpg\" style=\"width: 100%; height: 100%; object-fit: cover; border-radius: 3px;\">\n",
       "            </div>\n",
       "            \n",
       "            <div style=\"flex: 0 0 auto; width: 150px; height: 100px;\">\n",
       "                <img src=\"https://img.sndimg.com/food/image/upload/w_555,h_416,c_fit,fl_progressive,q_95/v1/img/recipes/35/99/29/pictc8CoS.jpg\" style=\"width: 100%; height: 100%; object-fit: cover; border-radius: 3px;\">\n",
       "            </div>\n",
       "            \n",
       "            </div>\n",
       "        </div>\n",
       "        "
      ],
      "text/plain": [
       "<IPython.core.display.HTML object>"
      ]
     },
     "metadata": {},
     "output_type": "display_data"
    },
    {
     "data": {
      "text/html": [
       "<div style='display: flex; flex-wrap: wrap; gap: 10px; margin: 10px 0;'><div style='padding: 5px 10px; background-color: #f0f8ff; border-radius: 4px;'><b>Time:</b> 5m</div><div style='padding: 5px 10px; background-color: #f0f8ff; border-radius: 4px;'><b>Calories:</b> 376.4 kcal</div><div style='padding: 5px 10px; background-color: #f0f8ff; border-radius: 4px;'><b>Servings:</b> 2.0</div><div style='padding: 5px 10px; background-color: #f0fff0; border-radius: 4px;'><b>Carbs:</b> 42.5%</div><div style='padding: 5px 10px; background-color: #f0fff0; border-radius: 4px;'><b>Protein:</b> 15.9%</div><div style='padding: 5px 10px; background-color: #f0fff0; border-radius: 4px;'><b>Fat:</b> 41.6%</div></div>"
      ],
      "text/plain": [
       "<IPython.core.display.HTML object>"
      ]
     },
     "metadata": {},
     "output_type": "display_data"
    },
    {
     "data": {
      "text/html": [
       "\n",
       "    <div style='font-family: Arial; margin: 10px 0;'>\n",
       "        <h4 style='margin-top: 0; margin-bottom: 5px;'>Ingredients</h4>\n",
       "        <ul style='margin: 0 0 10px 0; padding-left: 20px;'>\n",
       "    <li><b>walnuts:</b> 4</li><li><b>dried sweetened cranberries:</b> 2</li>\n",
       "        </ul>\n",
       "        <h4 style='margin-top: 10px; margin-bottom: 5px;'>Instructions</h4>\n",
       "        <p style='margin: 0;'>Rinse lettuces; divide between 2 bowls.\n",
       "Sprinkle with walnuts, cranberries and goat cheese, evenly between the 2 bowls.\n",
       "Dress with vinaigrette, to taste: Salt and Pepper, to taste.</p>\n",
       "    </div>\n",
       "    "
      ],
      "text/plain": [
       "<IPython.core.display.HTML object>"
      ]
     },
     "metadata": {},
     "output_type": "display_data"
    },
    {
     "data": {
      "text/html": [
       "<div style='margin: 5px 0;'><span style='background-color: #eaeaea; padding: 2px 8px; border-radius: 10px; font-size: 0.8em; margin-right: 5px;'>Beginner Cook</span><span style='background-color: #eaeaea; padding: 2px 8px; border-radius: 10px; font-size: 0.8em; margin-right: 5px;'>Easy</span></div>"
      ],
      "text/plain": [
       "<IPython.core.display.HTML object>"
      ]
     },
     "metadata": {},
     "output_type": "display_data"
    },
    {
     "data": {
      "text/html": [
       "<hr style='margin: 20px 0; border: 0; border-top: 1px dashed #ccc;'>"
      ],
      "text/plain": [
       "<IPython.core.display.HTML object>"
      ]
     },
     "metadata": {},
     "output_type": "display_data"
    }
   ],
   "source": [
    "records = run(\"\"\"\n",
    "I’m Alex, 30 years old, weight 70kg, and I’m 175cm tall.\n",
    "I’m male and I work out 5 times a week.\n",
    "I want a light snack with chocolate.\n",
    "I have walnuts, blueberries, and cottage cheese in my fridge.\n",
    "\"\"\")\n",
    "display_recipes_ranked(records)"
   ]
  },
  {
   "cell_type": "code",
   "execution_count": 7,
   "metadata": {},
   "outputs": [
    {
     "data": {
      "text/plain": [
       "[{'RecipeId': 203040,\n",
       "  'Name': 'Healthy Spring Mix',\n",
       "  'AuthorId': 166642,\n",
       "  'AuthorName': 'CookingONTheSide',\n",
       "  'CookTime': nan,\n",
       "  'PrepTime': 'PT10M',\n",
       "  'TotalTime': 'PT10M',\n",
       "  'DatePublished': '2007-01-02T18:15:00Z',\n",
       "  'Description': 'This is a one-serving salad I like to make for lunch after I come home from the gym. I add whatever vegetables I happen to have in my refrigerator at the time; it could be cucumbers, peppers, carrots, mushrooms, olives, tomatoes and even leftover grilled chicken. I try and slice and dice the vegetables as soon as I get home from the store and I am able to whip up this healthy meal in no time. Just add your favorite dressing.',\n",
       "  'Images': 'c(\"https://img.sndimg.com/food/image/upload/w_555,h_416,c_fit,fl_progressive,q_95/v1/img/recipes/20/30/40/picwu5ASB.jpg\", \"https://img.sndimg.com/food/image/upload/w_555,h_416,c_fit,fl_progressive,q_95/v1/img/recipes/20/30/40/picyYqqQi.jpg\", \"https://img.sndimg.com/food/image/upload/w_555,h_416,c_fit,fl_progressive,q_95/v1/img/recipes/20/30/40/picpjszhI.jpg\", \"https://img.sndimg.com/food/image/upload/w_555,h_416,c_fit,fl_progressive,q_95/v1/img/recipes/20/30/40/piczqyVPR.jpg\", \"https://img.sndimg.com/food/image/upload/w_555,h_416,c_fit,fl_progressive,q_95/v1/img/recipes/20/30/40/picV9sCbx.jpg\"\\n)',\n",
       "  'RecipeCategory': 'Spring',\n",
       "  'Keywords': 'c(\"< 15 Mins\", \"Easy\")',\n",
       "  'RecipeIngredientQuantities': 'c(\"2 -3\", \"2\", \"1\", \"1/4\", \"1/4\", \"2\", \"1/4\")',\n",
       "  'RecipeIngredientParts': 'c(\"olive oil\", \"walnuts\", \"dried cranberries\", \"blue cheese\")',\n",
       "  'AggregatedRating': 5.0,\n",
       "  'ReviewCount': 6.0,\n",
       "  'Calories': 347.6,\n",
       "  'FatContent': 33.1,\n",
       "  'SaturatedFatContent': 6.2,\n",
       "  'CholesterolContent': 12.7,\n",
       "  'SodiumContent': 715.8,\n",
       "  'CarbohydrateContent': 8.7,\n",
       "  'FiberContent': 3.5,\n",
       "  'SugarContent': 1.8,\n",
       "  'ProteinContent': 8.4,\n",
       "  'RecipeServings': 1.0,\n",
       "  'RecipeYield': nan,\n",
       "  'RecipeInstructions': 'c(\"Top baby greens with remaining ingredients.\", \"Add whatever other vegetables you have in your refrigerator.\", \"Add your favorite dressing.\")'},\n",
       " {'RecipeId': 247849,\n",
       "  'Name': 'Chocolate Peanut Butter Protein Oatmeal',\n",
       "  'AuthorId': 315797,\n",
       "  'AuthorName': 'Darrinw2001',\n",
       "  'CookTime': 'PT5M',\n",
       "  'PrepTime': 'PT2M',\n",
       "  'TotalTime': 'PT7M',\n",
       "  'DatePublished': '2007-08-21T14:09:00Z',\n",
       "  'Description': 'Great for a Morning meal or a snack any time of the day! Full of the right carbs, fats, and protein.',\n",
       "  'Images': 'character(0)',\n",
       "  'RecipeCategory': 'Breakfast',\n",
       "  'Keywords': 'c(\"< 15 Mins\", \"Easy\")',\n",
       "  'RecipeIngredientQuantities': 'c(\"1/2\", \"1\", \"2\", \"30\")',\n",
       "  'RecipeIngredientParts': 'c(\"rolled oats\", \"water\", \"peanut butter\")',\n",
       "  'AggregatedRating': 4.0,\n",
       "  'ReviewCount': 2.0,\n",
       "  'Calories': 343.7,\n",
       "  'FatContent': 18.7,\n",
       "  'SaturatedFatContent': 3.7,\n",
       "  'CholesterolContent': 0.0,\n",
       "  'SodiumContent': 153.2,\n",
       "  'CarbohydrateContent': 33.4,\n",
       "  'FiberContent': 5.9,\n",
       "  'SugarContent': 3.5,\n",
       "  'ProteinContent': 14.5,\n",
       "  'RecipeServings': 1.0,\n",
       "  'RecipeYield': nan,\n",
       "  'RecipeInstructions': 'c(\"add oats to water and cook as normal on stove or microwave.\", \"when oats are done, add peanut butter and protein powder and mix well.\", \"enjoy!\")'},\n",
       " {'RecipeId': 359929,\n",
       "  'Name': 'Spring Mix With Walnuts, Cranberries and Goat Cheese',\n",
       "  'AuthorId': 526666,\n",
       "  'AuthorName': 'alligirl',\n",
       "  'CookTime': nan,\n",
       "  'PrepTime': 'PT5M',\n",
       "  'TotalTime': 'PT5M',\n",
       "  'DatePublished': '2009-03-09T11:57:00Z',\n",
       "  'Description': 'This is a refreshing salad, that may be served alongside a meal, or made a little larger, for a meal in itself! The amount of ingredients is just a suggestion; add the amounts to suit yourself!',\n",
       "  'Images': 'c(\"https://img.sndimg.com/food/image/upload/w_555,h_416,c_fit,fl_progressive,q_95/v1/img/recipes/35/99/29/pic0GzSzN.jpg\", \"https://img.sndimg.com/food/image/upload/w_555,h_416,c_fit,fl_progressive,q_95/v1/img/recipes/35/99/29/picL010UT.jpg\", \"https://img.sndimg.com/food/image/upload/w_555,h_416,c_fit,fl_progressive,q_95/v1/img/recipes/35/99/29/picWPc5Pq.jpg\", \"https://img.sndimg.com/food/image/upload/w_555,h_416,c_fit,fl_progressive,q_95/v1/img/recipes/35/99/29/picFJRztz.jpg\", \"https://img.sndimg.com/food/image/upload/w_555,h_416,c_fit,fl_progressive,q_95/v1/img/recipes/35/99/29/picCOhSdi.jpg\", \\n\"https://img.sndimg.com/food/image/upload/w_555,h_416,c_fit,fl_progressive,q_95/v1/img/recipes/35/99/29/picGeDZea.jpg\", \"https://img.sndimg.com/food/image/upload/w_555,h_416,c_fit,fl_progressive,q_95/v1/img/recipes/35/99/29/picRQDtYU.jpg\", \"https://img.sndimg.com/food/image/upload/w_555,h_416,c_fit,fl_progressive,q_95/v1/img/recipes/35/99/29/picTlGyYh.jpg\", \"https://img.sndimg.com/food/image/upload/w_555,h_416,c_fit,fl_progressive,q_95/v1/img/recipes/35/99/29/picj1sG8i.jpg\", \"https://img.sndimg.com/food/image/upload/w_555,h_416,c_fit,fl_progressive,q_95/v1/img/recipes/35/99/29/picENqSK6.jpg\", \\n\"https://img.sndimg.com/food/image/upload/w_555,h_416,c_fit,fl_progressive,q_95/v1/img/recipes/35/99/29/picAq8HYN.jpg\", \"https://img.sndimg.com/food/image/upload/w_555,h_416,c_fit,fl_progressive,q_95/v1/img/recipes/35/99/29/picKBTY3g.jpg\", \"https://img.sndimg.com/food/image/upload/w_555,h_416,c_fit,fl_progressive,q_95/v1/img/recipes/35/99/29/picwbGGeR.jpg\", \"https://img.sndimg.com/food/image/upload/w_555,h_416,c_fit,fl_progressive,q_95/v1/img/recipes/35/99/29/pic8Ypwyq.jpg\", \"https://img.sndimg.com/food/image/upload/w_555,h_416,c_fit,fl_progressive,q_95/v1/img/recipes/35/99/29/pictc8CoS.jpg\"\\n)',\n",
       "  'RecipeCategory': '< 15 Mins',\n",
       "  'Keywords': 'c(\"Beginner Cook\", \"Easy\")',\n",
       "  'RecipeIngredientQuantities': 'c(\"4\", \"2\", \"2\", \"2\", NA, NA)',\n",
       "  'RecipeIngredientParts': 'c(\"walnuts\", \"dried sweetened cranberries\")',\n",
       "  'AggregatedRating': 5.0,\n",
       "  'ReviewCount': 25.0,\n",
       "  'Calories': 376.4,\n",
       "  'FatContent': 27.4,\n",
       "  'SaturatedFatContent': 7.6,\n",
       "  'CholesterolContent': 22.4,\n",
       "  'SodiumContent': 147.7,\n",
       "  'CarbohydrateContent': 28.0,\n",
       "  'FiberContent': 3.5,\n",
       "  'SugarContent': 19.9,\n",
       "  'ProteinContent': 10.5,\n",
       "  'RecipeServings': 2.0,\n",
       "  'RecipeYield': '2 salads',\n",
       "  'RecipeInstructions': 'c(\"Rinse lettuces; divide between 2 bowls.\", \"Sprinkle with walnuts, cranberries and goat cheese, evenly between the 2 bowls.\", \"Dress with vinaigrette, to taste: Salt and Pepper, to taste.\")'}]"
      ]
     },
     "execution_count": 7,
     "metadata": {},
     "output_type": "execute_result"
    }
   ],
   "source": [
    "records"
   ]
  },
  {
   "cell_type": "code",
   "execution_count": null,
   "metadata": {},
   "outputs": [],
   "source": []
  }
 ],
 "metadata": {
  "kernelspec": {
   "display_name": "Python 3",
   "language": "python",
   "name": "python3"
  },
  "language_info": {
   "codemirror_mode": {
    "name": "ipython",
    "version": 3
   },
   "file_extension": ".py",
   "mimetype": "text/x-python",
   "name": "python",
   "nbconvert_exporter": "python",
   "pygments_lexer": "ipython3",
   "version": "3.11.11"
  }
 },
 "nbformat": 4,
 "nbformat_minor": 2
}
